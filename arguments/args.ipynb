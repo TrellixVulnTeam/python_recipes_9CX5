{
 "cells": [
  {
   "cell_type": "code",
   "execution_count": 1,
   "metadata": {},
   "outputs": [],
   "source": [
    "from itertools import chain"
   ]
  },
  {
   "cell_type": "code",
   "execution_count": 2,
   "metadata": {},
   "outputs": [],
   "source": [
    "# define some default parameters:\n",
    "defaults = {\n",
    "    'sc_accuracy_rho': 1.0e-6,\n",
    "    'sc_accuracy_forces': 1.0e-5,\n",
    "    'xc': 'pbe',\n",
    "    'kgrid': [3, 3, 3]\n",
    "}"
   ]
  },
  {
   "cell_type": "code",
   "execution_count": 3,
   "metadata": {},
   "outputs": [],
   "source": [
    "# define custom parameters\n",
    "custom_params = {\n",
    "    'xc': 'lda',\n",
    "    'sc_accuracy_etot': 1e-8\n",
    "}"
   ]
  },
  {
   "cell_type": "code",
   "execution_count": 4,
   "metadata": {},
   "outputs": [],
   "source": [
    "# combine them\n",
    "params = dict(chain(defaults.items(), custom_params.items()))"
   ]
  },
  {
   "cell_type": "code",
   "execution_count": 5,
   "metadata": {},
   "outputs": [
    {
     "name": "stdout",
     "output_type": "stream",
     "text": [
      "{'sc_accuracy_rho': 1e-06, 'sc_accuracy_forces': 1e-05, 'xc': 'lda', 'kgrid': [3, 3, 3], 'sc_accuracy_etot': 1e-08}\n"
     ]
    }
   ],
   "source": [
    "print(params)"
   ]
  }
 ],
 "metadata": {
  "kernelspec": {
   "display_name": "Python 3",
   "language": "python",
   "name": "python3"
  },
  "language_info": {
   "codemirror_mode": {
    "name": "ipython",
    "version": 3
   },
   "file_extension": ".py",
   "mimetype": "text/x-python",
   "name": "python",
   "nbconvert_exporter": "python",
   "pygments_lexer": "ipython3",
   "version": "3.6.6"
  }
 },
 "nbformat": 4,
 "nbformat_minor": 2
}
