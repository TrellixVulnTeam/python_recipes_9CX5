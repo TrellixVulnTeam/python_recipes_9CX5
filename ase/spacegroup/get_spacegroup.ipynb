{
 "cells": [
  {
   "cell_type": "markdown",
   "metadata": {},
   "source": [
    "Read geometry with ASE object and\n",
    "use `ase.spacegroup.get_spacegroup` to get a `Spacegroup` object, see\n",
    "https://wiki.fysik.dtu.dk/ase/ase/spacegroup/spacegroup.html#the-spacegroup-class\n",
    "https://wiki.fysik.dtu.dk/ase/ase/spacegroup/spacegroup.html#ase.spacegroup.get_spacegroup"
   ]
  },
  {
   "cell_type": "code",
   "execution_count": 1,
   "metadata": {},
   "outputs": [
    {
     "name": "stdout",
     "output_type": "stream",
     "text": [
      "62    P n m a\n",
      "  setting 1\n",
      "  centrosymmetric 1\n",
      "  primitive vectors\n",
      "     1.0000000000  0.0000000000  0.0000000000\n",
      "     0.0000000000  1.0000000000  0.0000000000\n",
      "     0.0000000000  0.0000000000  1.0000000000\n",
      "  reciprocal vectors\n",
      "      1   0   0\n",
      "      0   1   0\n",
      "      0   0   1\n",
      "  1 subtranslations\n",
      "     0.0000000000  0.0000000000  0.0000000000\n",
      "  4 symmetry operations (rot+trans)\n",
      "    1  0  0     0  1  0     0  0  1    0.0000000000  0.0000000000  0.0000000000\n",
      "   -1  0  0     0 -1  0     0  0  1    0.5000000000  0.0000000000  0.5000000000\n",
      "   -1  0  0     0  1  0     0  0 -1    0.0000000000  0.5000000000  0.0000000000\n",
      "    1  0  0     0 -1  0     0  0 -1    0.5000000000  0.5000000000  0.5000000000\n",
      "\n",
      "\n"
     ]
    }
   ],
   "source": [
    "from ase.io import read\n",
    "from ase.spacegroup import get_spacegroup\n",
    "\n",
    "atoms = read(\"geometry.in\", format=\"aims\")\n",
    "\n",
    "sg = get_spacegroup(atoms, symprec=1e-5)  # `symprec=1e-5` is the default\n",
    "\n",
    "print(sg)"
   ]
  },
  {
   "cell_type": "code",
   "execution_count": null,
   "metadata": {},
   "outputs": [],
   "source": []
  }
 ],
 "metadata": {
  "kernelspec": {
   "display_name": "Python 3",
   "language": "python",
   "name": "python3"
  },
  "language_info": {
   "codemirror_mode": {
    "name": "ipython",
    "version": 3
   },
   "file_extension": ".py",
   "mimetype": "text/x-python",
   "name": "python",
   "nbconvert_exporter": "python",
   "pygments_lexer": "ipython3",
   "version": "3.8.1"
  }
 },
 "nbformat": 4,
 "nbformat_minor": 4
}
