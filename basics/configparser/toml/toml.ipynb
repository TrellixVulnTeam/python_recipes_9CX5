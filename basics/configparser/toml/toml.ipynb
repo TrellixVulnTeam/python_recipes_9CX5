{
 "cells": [
  {
   "cell_type": "code",
   "execution_count": 1,
   "metadata": {},
   "outputs": [],
   "source": [
    "import toml as tl"
   ]
  },
  {
   "cell_type": "code",
   "execution_count": 2,
   "metadata": {},
   "outputs": [],
   "source": [
    "class adict(dict):\n",
    "    def __init__(self, obj={}):\n",
    "        super().__init__(obj)\n",
    "        self.__dict__ = self"
   ]
  },
  {
   "cell_type": "code",
   "execution_count": 3,
   "metadata": {},
   "outputs": [
    {
     "data": {
      "text/plain": [
       "{'title': 'TOML Example',\n",
       " 'owner': {'name': 'Tom Preston-Werner',\n",
       "  'dob': datetime.datetime(1979, 5, 27, 7, 32, tzinfo=<toml.tz.TomlTz object at 0x14f289330828>)},\n",
       " 'database': {'server': '192.168.1.1',\n",
       "  'ports': [8001, 8001, 8002],\n",
       "  'connection_max': 5000,\n",
       "  'enabled': True},\n",
       " 'servers': {'alpha': {'ip': '10.0.0.1', 'dc': 'eqdc10'},\n",
       "  'beta': {'ip': '10.0.0.2', 'dc': 'eqdc10'}},\n",
       " 'clients': {'data': [['gamma', 'delta'], [1, 2]],\n",
       "  'hosts': ['alpha', 'omega']}}"
      ]
     },
     "execution_count": 3,
     "metadata": {},
     "output_type": "execute_result"
    }
   ],
   "source": [
    "conf = tl.load('example.toml', _dict=adict)\n",
    "conf"
   ]
  },
  {
   "cell_type": "code",
   "execution_count": 4,
   "metadata": {},
   "outputs": [
    {
     "data": {
      "text/plain": [
       "({'ip': '10.0.0.2', 'dc': 'eqdc10'}, {'ip': '10.0.0.2', 'dc': 'eqdc10'})"
      ]
     },
     "execution_count": 4,
     "metadata": {},
     "output_type": "execute_result"
    }
   ],
   "source": [
    "conf['servers']['beta'], conf.servers.beta"
   ]
  },
  {
   "cell_type": "code",
   "execution_count": null,
   "metadata": {},
   "outputs": [],
   "source": []
  }
 ],
 "metadata": {
  "kernelspec": {
   "display_name": "Python 3",
   "language": "python",
   "name": "python3"
  },
  "language_info": {
   "codemirror_mode": {
    "name": "ipython",
    "version": 3
   },
   "file_extension": ".py",
   "mimetype": "text/x-python",
   "name": "python",
   "nbconvert_exporter": "python",
   "pygments_lexer": "ipython3",
   "version": "3.7.3"
  }
 },
 "nbformat": 4,
 "nbformat_minor": 2
}
