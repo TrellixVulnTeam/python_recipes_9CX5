{
 "cells": [
  {
   "cell_type": "code",
   "execution_count": 1,
   "metadata": {},
   "outputs": [
    {
     "name": "stdout",
     "output_type": "stream",
     "text": [
      "(i, j) = (0, 0)\n",
      "(i, j) = (0, 1)\n",
      "(i, j) = (1, 0)\n",
      "(i, j) = (1, 1)\n",
      "(i, j) = (2, 0)\n",
      "(i, j) = (2, 1)\n",
      "(i, j) = (3, 0)\n",
      "(i, j) = (3, 1)\n"
     ]
    }
   ],
   "source": [
    "for (i,j) in ((i, j) for i in range(4) for j in range(2)):\n",
    "    print(f'(i, j) = ({i}, {j})')"
   ]
  },
  {
   "cell_type": "code",
   "execution_count": null,
   "metadata": {},
   "outputs": [],
   "source": []
  }
 ],
 "metadata": {
  "kernelspec": {
   "display_name": "Python 3",
   "language": "python",
   "name": "python3"
  },
  "language_info": {
   "codemirror_mode": {
    "name": "ipython",
    "version": 3
   },
   "file_extension": ".py",
   "mimetype": "text/x-python",
   "name": "python",
   "nbconvert_exporter": "python",
   "pygments_lexer": "ipython3",
   "version": "3.7.0"
  }
 },
 "nbformat": 4,
 "nbformat_minor": 2
}
