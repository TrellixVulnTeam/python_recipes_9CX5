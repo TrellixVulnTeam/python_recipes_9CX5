{
 "cells": [
  {
   "cell_type": "code",
   "execution_count": 1,
   "metadata": {},
   "outputs": [],
   "source": [
    "from ase.build import supercells\n",
    "from ase.io import read\n",
    "from time import time\n",
    "from subprocess import run\n",
    "import importlib as il\n",
    "import numpy as np\n",
    "import os"
   ]
  },
  {
   "cell_type": "code",
   "execution_count": 2,
   "metadata": {},
   "outputs": [
    {
     "data": {
      "text/plain": [
       "False"
      ]
     },
     "execution_count": 2,
     "metadata": {},
     "output_type": "execute_result"
    }
   ],
   "source": [
    "# Check if LD_LIBRARY_PATH is up to date\n",
    "os.getcwd() in os.environ['LD_LIBRARY_PATH'].split(':')"
   ]
  },
  {
   "cell_type": "code",
   "execution_count": 3,
   "metadata": {},
   "outputs": [],
   "source": [
    "gao = read('geometry.in', 0, 'aims')"
   ]
  },
  {
   "cell_type": "code",
   "execution_count": 4,
   "metadata": {},
   "outputs": [
    {
     "data": {
      "text/plain": [
       "10"
      ]
     },
     "execution_count": 4,
     "metadata": {},
     "output_type": "execute_result"
    }
   ],
   "source": [
    "# Number of atoms\n",
    "gao.get_number_of_atoms()"
   ]
  },
  {
   "cell_type": "code",
   "execution_count": 5,
   "metadata": {},
   "outputs": [
    {
     "name": "stdout",
     "output_type": "stream",
     "text": [
      "Target size: 22.00\n"
     ]
    }
   ],
   "source": [
    "# Target number of atoms: 200\n",
    "n_target = 220\n",
    "target_size = n_target / gao.get_number_of_atoms()\n",
    "print(f'Target size: {target_size:.2f}')"
   ]
  },
  {
   "cell_type": "code",
   "execution_count": 6,
   "metadata": {},
   "outputs": [
    {
     "name": "stdout",
     "output_type": "stream",
     "text": [
      "target metric (h_target):\n",
      "[[1. 0. 0.]\n",
      " [0. 1. 0.]\n",
      " [0. 0. 1.]]\n",
      "normalization factor (Q): 0.0745796\n",
      "idealized transformation matrix:\n",
      "[[ 1.0765228   1.0765228   0.        ]\n",
      " [-4.34988933  4.34988933  0.        ]\n",
      " [ 0.26220383  0.26220383  2.34904451]]\n",
      "closest integer transformation matrix (P_0):\n",
      "[[ 1  1  0]\n",
      " [-4  4  0]\n",
      " [ 0  0  2]]\n",
      "smallest score (|Q P h_p - h_target|_2): 0.580774\n",
      "optimal transformation matrix (P_opt):\n",
      "[[ 1  1  0]\n",
      " [-5  5 -1]\n",
      " [-1  1  2]]\n",
      "supercell metric:\n",
      "[[12.4554  0.      0.    ]\n",
      " [ 1.3903 15.4125 -5.7081]\n",
      " [-2.7806  3.0825 11.4161]]\n",
      "determinant of optimal transformation matrix: 22\n",
      "..found in 23.862s\n"
     ]
    }
   ],
   "source": [
    "# Python implementation\n",
    "stime = time()\n",
    "smatrix = supercells.find_optimal_cell_shape(gao.cell, target_size=target_size, target_shape='sc', verbose=1,\n",
    "                                            lower_limit=-2, upper_limit=2)\n",
    "python_time = time() - stime\n",
    "print(f'..found in {python_time:.3f}s')"
   ]
  },
  {
   "cell_type": "markdown",
   "metadata": {},
   "source": [
    "## f2py"
   ]
  },
  {
   "cell_type": "code",
   "execution_count": 7,
   "metadata": {},
   "outputs": [],
   "source": [
    "import supercell as sc"
   ]
  },
  {
   "cell_type": "code",
   "execution_count": 8,
   "metadata": {},
   "outputs": [],
   "source": [
    "# ?sc.supercell.find_optimal_cell"
   ]
  },
  {
   "cell_type": "code",
   "execution_count": 9,
   "metadata": {},
   "outputs": [
    {
     "data": {
      "text/plain": [
       "22.0"
      ]
     },
     "execution_count": 9,
     "metadata": {},
     "output_type": "execute_result"
    }
   ],
   "source": [
    "target_size"
   ]
  },
  {
   "cell_type": "code",
   "execution_count": 10,
   "metadata": {},
   "outputs": [
    {
     "name": "stdout",
     "output_type": "stream",
     "text": [
      "..found in 0.00010s\n"
     ]
    },
    {
     "data": {
      "text/plain": [
       "array([[ 1,  1,  0],\n",
       "       [-5,  5,  0],\n",
       "       [ 0,  0,  3]], dtype=int32)"
      ]
     },
     "execution_count": 10,
     "metadata": {},
     "output_type": "execute_result"
    }
   ],
   "source": [
    "stime = time()\n",
    "smatrix = sc.supercell.find_optimal_cell(gao.cell, np.eye(3), 30.)\n",
    "fortran_time = time()-stime\n",
    "print(f'..found in {fortran_time:.5f}s')\n",
    "smatrix"
   ]
  },
  {
   "cell_type": "code",
   "execution_count": 11,
   "metadata": {},
   "outputs": [
    {
     "name": "stdout",
     "output_type": "stream",
     "text": [
      "Speedup is 242927.532\n"
     ]
    }
   ],
   "source": [
    "print(f'Speedup is {python_time / fortran_time:.3f}')"
   ]
  },
  {
   "cell_type": "code",
   "execution_count": null,
   "metadata": {},
   "outputs": [],
   "source": []
  }
 ],
 "metadata": {
  "kernelspec": {
   "display_name": "Python 3",
   "language": "python",
   "name": "python3"
  },
  "language_info": {
   "codemirror_mode": {
    "name": "ipython",
    "version": 3
   },
   "file_extension": ".py",
   "mimetype": "text/x-python",
   "name": "python",
   "nbconvert_exporter": "python",
   "pygments_lexer": "ipython3",
   "version": "3.6.6"
  }
 },
 "nbformat": 4,
 "nbformat_minor": 2
}
