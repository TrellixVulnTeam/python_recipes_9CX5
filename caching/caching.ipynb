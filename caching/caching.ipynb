{
 "cells": [
  {
   "cell_type": "markdown",
   "metadata": {},
   "source": [
    "## Idea\n",
    "- function turns `dataarray` with attached `hash` into new `dataarray` with attached `hash`\n",
    "- `dataarray` can then be saved to `cache` directory"
   ]
  },
  {
   "cell_type": "code",
   "execution_count": 1,
   "metadata": {},
   "outputs": [],
   "source": [
    "import collections\n",
    "import hashlib\n",
    "import inspect\n",
    "import json\n",
    "from pathlib import Path\n",
    "\n",
    "import numpy as np\n",
    "import scipy.integrate as si\n",
    "import xarray as xr\n",
    "\n",
    "get_hash = lambda x: hashlib.sha1(x).hexdigest()"
   ]
  },
  {
   "cell_type": "code",
   "execution_count": 2,
   "metadata": {},
   "outputs": [
    {
     "data": {
      "text/plain": [
       "keys(hash='hash', hash_input='hash_input', hash_function='hash_function', cache='cache', function_name='function_name', function_signature='function_signature')"
      ]
     },
     "execution_count": 2,
     "metadata": {},
     "output_type": "execute_result"
    }
   ],
   "source": [
    "keys = {\n",
    "    k: k\n",
    "    for k in (\n",
    "        \"hash\",\n",
    "        \"hash_input\",\n",
    "        \"hash_function\",\n",
    "        \"cache\",\n",
    "        \"function_name\",\n",
    "        \"function_signature\",\n",
    "    )\n",
    "}\n",
    "\n",
    "keys = collections.namedtuple(\"keys\", keys.keys())(**keys)\n",
    "keys"
   ]
  },
  {
   "cell_type": "code",
   "execution_count": 3,
   "metadata": {},
   "outputs": [
    {
     "data": {
      "text/plain": [
       "<xarray.DataArray 'some_array' (x: 10)>\n",
       "array([ 0.      ,  0.841471,  0.909297,  0.14112 , -0.756802, -0.958924,\n",
       "       -0.279415,  0.656987,  0.989358,  0.412118])\n",
       "Coordinates:\n",
       "  * x        (x) int64 0 1 2 3 4 5 6 7 8 9\n",
       "Attributes:\n",
       "    hash:     040a8e4bb7f8cbfc196f77b7243a95819e09c3d2"
      ]
     },
     "execution_count": 3,
     "metadata": {},
     "output_type": "execute_result"
    }
   ],
   "source": [
    "# Input dataarray\n",
    "\n",
    "x = np.arange(10)\n",
    "y = np.sin(x)\n",
    "\n",
    "# initial hash\n",
    "h = get_hash(np.array([x, y]))\n",
    "\n",
    "da = xr.DataArray(y, dims=\"x\", coords={\"x\": x}, name=\"some_array\")\n",
    "da.attrs.update({keys.hash: h})\n",
    "da"
   ]
  },
  {
   "cell_type": "code",
   "execution_count": 4,
   "metadata": {},
   "outputs": [],
   "source": [
    "# write wrapper for caching\n",
    "\n",
    "_path_cache = Path(keys.cache)\n",
    "_path_log = _path_cache / f\"{keys.hash}.json\"\n",
    "\n",
    "\n",
    "def log_update(filename, hash_str):\n",
    "    \"\"\"Update the hash logfile with current `filename: hash` pair\"\"\"\n",
    "    path = _path_log\n",
    "    log = {}\n",
    "    if path.exists():\n",
    "        log = json.load(path.open())\n",
    "    log.update({filename: hash_str})\n",
    "\n",
    "    with path.open(\"w\") as f:\n",
    "        json.dump(log, f, indent=2)\n",
    "\n",
    "\n",
    "def log_lookup(filename):\n",
    "    \"\"\"lookup the hash for given filename\"\"\"\n",
    "    path = _path_log\n",
    "    if path.exists():\n",
    "        log = json.load(path.open())\n",
    "        return log.get(filename)\n",
    "\n",
    "\n",
    "def function_name_from_attrs(attrs):\n",
    "    \"\"\"helper: extract function name from attrs\"\"\"\n",
    "    s = json.loads(attrs[keys.function_signature])\n",
    "    return s[\"__name__\"]\n",
    "\n",
    "\n",
    "def cache_filename(array, function_name):\n",
    "    \"\"\"determine filename for cache-file from the function name\"\"\"\n",
    "    assert isinstance(array, xr.DataArray)\n",
    "    return str(function_name) + \".nc\"\n",
    "\n",
    "\n",
    "def cache_write(array, filename):\n",
    "    \"\"\"write array to the cache\"\"\"\n",
    "    h = array.attrs[keys.hash]  # extract hash\n",
    "    file = _path_cache / filename\n",
    "    file.parent.mkdir(exist_ok=True)  # make sure folder exists\n",
    "    array.to_netcdf(file)\n",
    "    # update hash.json\n",
    "    log_update(filename, h)\n",
    "\n",
    "\n",
    "def cache_read(filename):\n",
    "    \"\"\"read file in cache\"\"\"\n",
    "    path = _path_cache / filename\n",
    "    array = xr.load_dataarray(path)\n",
    "    return array\n",
    "\n",
    "\n",
    "def get_signature_dict(func, array, kwargs):\n",
    "    \"\"\"add the function signature dictionary\"\"\"\n",
    "    s = inspect.signature(func)\n",
    "    dct = {\"__name__\": func.__name__}\n",
    "    dct.update({k: v.default for (k, v) in s.parameters.items()})\n",
    "    dct.update(kwargs)  # update the signature\n",
    "    dct.update({\"__type__\": str(type(array))})  # add data type\n",
    "    dct.pop(\"kwargs\", None)  # pop literal \"kwargs\" (if they were empty)\n",
    "\n",
    "    return dct\n",
    "\n",
    "\n",
    "def cached(func):\n",
    "    \"\"\"Provides on-disk cache for a function that accepts and returns an xarray.DataArray\"\"\"\n",
    "    name = func.__name__\n",
    "\n",
    "    def _func(array, **kwargs):\n",
    "        signature = get_signature_dict(func, array, kwargs)\n",
    "        signature_str = json.dumps(signature)\n",
    "\n",
    "        # create hashes\n",
    "        hash_input = array.attrs.get(keys.hash, \"\")  # hash input array\n",
    "        hash_function = get_hash(signature_str.encode())  # hash the function\n",
    "        input_function_str = hash_function.encode() + hash_input.encode()\n",
    "        hash_output = get_hash(input_function_str)  # hash output array\n",
    "\n",
    "        filename = cache_filename(array, name)\n",
    "\n",
    "        # look up if the result is already cached in the local cache folder\n",
    "        hash_lookup = log_lookup(filename)\n",
    "\n",
    "        if hash_lookup == hash_output:\n",
    "            return cache_read(filename)  # return the cached result\n",
    "\n",
    "        # otherwise compute and attach metainfo\n",
    "        result = func(array=array, **kwargs)\n",
    "        attrs = {\n",
    "            keys.hash_input: hash_input,\n",
    "            keys.function_signature: signature_str,\n",
    "            keys.hash_function: hash_function,\n",
    "            keys.hash: hash_output,\n",
    "        }\n",
    "        result.attrs.update(attrs)\n",
    "\n",
    "        cache_write(result, filename)\n",
    "\n",
    "        return result\n",
    "\n",
    "    return _func"
   ]
  },
  {
   "cell_type": "code",
   "execution_count": 5,
   "metadata": {},
   "outputs": [
    {
     "data": {
      "text/plain": [
       "<xarray.DataArray (x: 10)>\n",
       "array([0.      , 0.420735, 1.29612 , 1.821328, 1.513487, 0.655624, 0.036454,\n",
       "       0.225239, 1.048412, 1.74915 ])\n",
       "Coordinates:\n",
       "  * x        (x) int64 0 1 2 3 4 5 6 7 8 9\n",
       "Attributes:\n",
       "    hash:                ebf61ebc07e549598eeb651d73a8505b899d7d1e\n",
       "    hash_input:          040a8e4bb7f8cbfc196f77b7243a95819e09c3d2\n",
       "    function_signature:  {\"__name__\": \"cumtrapz\", \"array\": null, \"dx\": 1.0, \"...\n",
       "    hash_function:       374631568a488a70417cd6f9beecbaf15c21306c"
      ]
     },
     "execution_count": 5,
     "metadata": {},
     "output_type": "execute_result"
    }
   ],
   "source": [
    "# function that performs integration on the data\n",
    "@cached\n",
    "def cumtrapz(array=None, dx: float = 1.0, axis: int = 0):\n",
    "    \"\"\"perform trapz on array and return\"\"\"\n",
    "    y = np.asarray(array)\n",
    "    x = np.asarray(array.coords[array.dims[0]])\n",
    "    i = si.cumtrapz(y, x=x, dx=dx, axis=axis, initial=0)\n",
    "\n",
    "    # create dataarray\n",
    "    da = xr.DataArray(i, dims=array.dims, coords=array.coords, attrs=array.attrs)\n",
    "\n",
    "    return da\n",
    "\n",
    "cumtrapz(da)"
   ]
  },
  {
   "cell_type": "code",
   "execution_count": 6,
   "metadata": {},
   "outputs": [],
   "source": [
    "def stupid_function(array=None):\n",
    "    array = array.copy()\n",
    "    for i, x in enumerate(array):\n",
    "        for j, y in enumerate(array):\n",
    "            array[i] += i + y\n",
    "    return array\n",
    "\n",
    "\n",
    "@cached\n",
    "def cached_stupid_function(array=None):\n",
    "    return stupid_function(array)"
   ]
  },
  {
   "cell_type": "code",
   "execution_count": 7,
   "metadata": {},
   "outputs": [
    {
     "name": "stdout",
     "output_type": "stream",
     "text": [
      "79.8 ms ± 1.85 ms per loop (mean ± std. dev. of 7 runs, 10 loops each)\n"
     ]
    }
   ],
   "source": [
    "%%timeit\n",
    "stupid_function(da)"
   ]
  },
  {
   "cell_type": "code",
   "execution_count": 8,
   "metadata": {},
   "outputs": [
    {
     "name": "stdout",
     "output_type": "stream",
     "text": [
      "1.73 ms ± 123 µs per loop (mean ± std. dev. of 7 runs, 1000 loops each)\n"
     ]
    }
   ],
   "source": [
    "%%timeit\n",
    "cached_stupid_function(da)"
   ]
  },
  {
   "cell_type": "code",
   "execution_count": null,
   "metadata": {},
   "outputs": [],
   "source": []
  }
 ],
 "metadata": {
  "kernelspec": {
   "display_name": "Python 3",
   "language": "python",
   "name": "python3"
  },
  "language_info": {
   "codemirror_mode": {
    "name": "ipython",
    "version": 3
   },
   "file_extension": ".py",
   "mimetype": "text/x-python",
   "name": "python",
   "nbconvert_exporter": "python",
   "pygments_lexer": "ipython3",
   "version": "3.7.3"
  }
 },
 "nbformat": 4,
 "nbformat_minor": 2
}
