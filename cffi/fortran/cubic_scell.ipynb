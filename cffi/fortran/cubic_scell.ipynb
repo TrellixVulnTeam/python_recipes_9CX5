{
 "cells": [
  {
   "cell_type": "code",
   "execution_count": 1,
   "metadata": {},
   "outputs": [],
   "source": [
    "from ase.build import supercells\n",
    "from ase.io import read\n",
    "from time import time\n",
    "from subprocess import run\n",
    "import importlib as il\n",
    "import numpy as np\n",
    "import os"
   ]
  },
  {
   "cell_type": "code",
   "execution_count": 2,
   "metadata": {},
   "outputs": [
    {
     "data": {
      "text/plain": [
       "True"
      ]
     },
     "execution_count": 2,
     "metadata": {},
     "output_type": "execute_result"
    }
   ],
   "source": [
    "# Check if LD_LIBRARY_PATH is up to date\n",
    "os.getcwd() in os.environ['LD_LIBRARY_PATH'].split(':')"
   ]
  },
  {
   "cell_type": "code",
   "execution_count": 3,
   "metadata": {},
   "outputs": [],
   "source": [
    "gao = read('geometry.in', 0, 'aims')"
   ]
  },
  {
   "cell_type": "code",
   "execution_count": 4,
   "metadata": {},
   "outputs": [
    {
     "data": {
      "text/plain": [
       "10"
      ]
     },
     "execution_count": 4,
     "metadata": {},
     "output_type": "execute_result"
    }
   ],
   "source": [
    "# Number of atoms\n",
    "gao.get_number_of_atoms()"
   ]
  },
  {
   "cell_type": "code",
   "execution_count": 5,
   "metadata": {},
   "outputs": [
    {
     "name": "stdout",
     "output_type": "stream",
     "text": [
      "Target size: 30.00\n"
     ]
    }
   ],
   "source": [
    "# Target number of atoms: 200\n",
    "n_target = 300\n",
    "target_size = n_target / gao.get_number_of_atoms()\n",
    "print(f'Target size: {target_size:.2f}')"
   ]
  },
  {
   "cell_type": "code",
   "execution_count": 6,
   "metadata": {},
   "outputs": [
    {
     "name": "stdout",
     "output_type": "stream",
     "text": [
      "target metric (h_target):\n",
      "[[1. 0. 0.]\n",
      " [0. 1. 0.]\n",
      " [0. 0. 1.]]\n",
      "normalization factor (Q): 0.0672544\n",
      "idealized transformation matrix:\n",
      "[[ 1.19377576  1.19377576  0.        ]\n",
      " [-4.8236716   4.8236716   0.        ]\n",
      " [ 0.29076261  0.29076261  2.60489829]]\n",
      "closest integer transformation matrix (P_0):\n",
      "[[ 1  1  0]\n",
      " [-5  5  0]\n",
      " [ 0  0  3]]\n",
      "smallest score (|Q P h_p - h_target|_2): 0.283849\n",
      "optimal transformation matrix (P_opt):\n",
      "[[ 1  1  0]\n",
      " [-5  5  0]\n",
      " [ 0  1  3]]\n",
      "supercell metric:\n",
      "[[12.4554  0.      0.    ]\n",
      " [ 0.     15.4125  0.    ]\n",
      " [ 2.0568  1.5412 17.1242]]\n",
      "determinant of optimal transformation matrix: 30\n",
      "..found in 23.224s\n"
     ]
    }
   ],
   "source": [
    "# Python implementation\n",
    "stime = time()\n",
    "smatrix = supercells.find_optimal_cell_shape(gao.cell, target_size=target_size, target_shape='sc', verbose=1,\n",
    "                                            lower_limit=-2, upper_limit=2)\n",
    "print(f'..found in {time()-stime:.3f}s')"
   ]
  },
  {
   "cell_type": "markdown",
   "metadata": {},
   "source": [
    "## CFFI Fortran"
   ]
  },
  {
   "cell_type": "code",
   "execution_count": 7,
   "metadata": {},
   "outputs": [],
   "source": [
    "from cffi import FFI\n",
    "ffi = FFI()\n",
    "lib = ffi.dlopen(\"libwrapper.so\")"
   ]
  },
  {
   "cell_type": "code",
   "execution_count": 8,
   "metadata": {},
   "outputs": [],
   "source": [
    "ffi.cdef(\"void c_find_optimal_cell(double cell[], double target_metric[], int target_size, int smatrix[]);\")"
   ]
  },
  {
   "cell_type": "code",
   "execution_count": 9,
   "metadata": {},
   "outputs": [
    {
     "data": {
      "text/plain": [
       "(array([[ 6.22768603, -1.54124518,  0.        ],\n",
       "        [ 6.22768603,  1.54124518,  0.        ],\n",
       "        [-1.39028711,  0.        ,  5.7080621 ]]), array([[1., 0., 0.],\n",
       "        [0., 1., 0.],\n",
       "        [0., 0., 1.]]), 30.0, array([[0, 0, 0],\n",
       "        [0, 0, 0],\n",
       "        [0, 0, 0]]))"
      ]
     },
     "execution_count": 9,
     "metadata": {},
     "output_type": "execute_result"
    }
   ],
   "source": [
    "cell = gao.cell\n",
    "target_metric = np.eye(3)\n",
    "smatrix = np.zeros((3,3), dtype=int)\n",
    "cell, target_metric, target_size, smatrix"
   ]
  },
  {
   "cell_type": "code",
   "execution_count": 10,
   "metadata": {},
   "outputs": [],
   "source": [
    "# smatrix  = ffi.cast(\"int*\", smatrix.__array_interface__['data'][0])\n",
    "smatrix  = ffi.cast(\"int*\", smatrix.ctypes.data)"
   ]
  },
  {
   "cell_type": "code",
   "execution_count": 11,
   "metadata": {},
   "outputs": [],
   "source": [
    "cell  = ffi.cast(\"double *\", cell.ctypes.data)"
   ]
  },
  {
   "cell_type": "code",
   "execution_count": 12,
   "metadata": {},
   "outputs": [],
   "source": [
    "target_metric  = ffi.cast(\"double *\", target_metric.ctypes.data)"
   ]
  },
  {
   "cell_type": "code",
   "execution_count": 13,
   "metadata": {},
   "outputs": [
    {
     "data": {
      "text/plain": [
       "30"
      ]
     },
     "execution_count": 13,
     "metadata": {},
     "output_type": "execute_result"
    }
   ],
   "source": [
    "target_size  = int(target_size)\n",
    "target_size"
   ]
  },
  {
   "cell_type": "code",
   "execution_count": 14,
   "metadata": {},
   "outputs": [
    {
     "name": "stdout",
     "output_type": "stream",
     "text": [
      "..found in 0.171s\n"
     ]
    }
   ],
   "source": [
    "stime = time()\n",
    "lib.c_find_optimal_cell(cell, target_metric, target_size, smatrix)\n",
    "print(f'..found in {time()-stime:.3f}s')"
   ]
  },
  {
   "cell_type": "code",
   "execution_count": 15,
   "metadata": {},
   "outputs": [
    {
     "data": {
      "text/plain": [
       "[1, 1, 0, -5, 5, 0, 0, 1, 3]"
      ]
     },
     "execution_count": 15,
     "metadata": {},
     "output_type": "execute_result"
    }
   ],
   "source": [
    "list(smatrix[0:9])"
   ]
  },
  {
   "cell_type": "code",
   "execution_count": 16,
   "metadata": {},
   "outputs": [
    {
     "data": {
      "text/plain": [
       "array([[ 1,  1,  0],\n",
       "       [-5,  5,  0],\n",
       "       [ 0,  1,  3]])"
      ]
     },
     "execution_count": 16,
     "metadata": {},
     "output_type": "execute_result"
    }
   ],
   "source": [
    "smat = np.array(list(smatrix[0:9])).reshape((3,3))\n",
    "smat"
   ]
  },
  {
   "cell_type": "code",
   "execution_count": 17,
   "metadata": {},
   "outputs": [
    {
     "data": {
      "text/plain": [
       "29.99999999999999"
      ]
     },
     "execution_count": 17,
     "metadata": {},
     "output_type": "execute_result"
    }
   ],
   "source": [
    "np.linalg.det(smat)"
   ]
  },
  {
   "cell_type": "code",
   "execution_count": 18,
   "metadata": {},
   "outputs": [
    {
     "data": {
      "text/plain": [
       "array([[ 6.22768603, -1.54124518,  0.        ],\n",
       "       [ 6.22768603,  1.54124518,  0.        ],\n",
       "       [-1.39028711,  0.        ,  5.7080621 ]])"
      ]
     },
     "execution_count": 18,
     "metadata": {},
     "output_type": "execute_result"
    }
   ],
   "source": [
    "gao.cell"
   ]
  },
  {
   "cell_type": "code",
   "execution_count": null,
   "metadata": {},
   "outputs": [],
   "source": []
  }
 ],
 "metadata": {
  "kernelspec": {
   "display_name": "Python 3",
   "language": "python",
   "name": "python3"
  },
  "language_info": {
   "codemirror_mode": {
    "name": "ipython",
    "version": 3
   },
   "file_extension": ".py",
   "mimetype": "text/x-python",
   "name": "python",
   "nbconvert_exporter": "python",
   "pygments_lexer": "ipython3",
   "version": "3.6.6"
  }
 },
 "nbformat": 4,
 "nbformat_minor": 2
}
