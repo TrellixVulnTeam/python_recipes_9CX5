{
 "cells": [
  {
   "cell_type": "code",
   "execution_count": 1,
   "metadata": {},
   "outputs": [],
   "source": [
    "# Define a class and use two different ways to construct it\n",
    "from datetime import datetime\n",
    "class Date(object):\n",
    "    def __init__(self, day=0, month=0, year=0):\n",
    "        self.day = day\n",
    "        self.month = month\n",
    "        self.year = year\n",
    "    \n",
    "    def __add__(self, dude):\n",
    "        return Date(\n",
    "        self.day + dude.day,\n",
    "        self.month + dude.month,\n",
    "        self.year + dude.year)\n",
    "    \n",
    "    def __sub__(self, dude):\n",
    "        return Date(\n",
    "        self.day - dude.day,\n",
    "        self.month - dude.month,\n",
    "        self.year - dude.year)\n",
    "    \n",
    "    @classmethod\n",
    "    def from_string(cls, date_string):\n",
    "        # map(func, iter): apply func to each elem in iter\n",
    "        date_tuple = map(int, date_string.split('-'))\n",
    "        sdate = cls(*date_tuple)\n",
    "        return sdate\n",
    "    \n",
    "    @staticmethod\n",
    "    def is_date_valid(date_as_string):\n",
    "        day, month, year = map(int, date_as_string.split('-'))\n",
    "        return day <= 31 and month <= 12 and year <= 3999\n",
    "    \n",
    "    # REM: these methods are just here to exemplify things, they are not correct\n",
    "    def elapsed_time(self):\n",
    "        now = datetime.now()\n",
    "        today = Date(now.day, now.month, now.year)\n",
    "        return (today - self).to_string() + f' ({(today - self).to_days()} days)'\n",
    "    \n",
    "    def to_string(self):\n",
    "        return f'{self.day}-{self.month}-{self.year}'\n",
    "    \n",
    "    def to_days(self):\n",
    "        return self.day + 30*self.month + 365*self.year"
   ]
  },
  {
   "cell_type": "code",
   "execution_count": 2,
   "metadata": {},
   "outputs": [
    {
     "data": {
      "text/plain": [
       "'4-0-61 (22269 days)'"
      ]
     },
     "execution_count": 2,
     "metadata": {},
     "output_type": "execute_result"
    }
   ],
   "source": [
    "day1 = Date(8, 7, 1957)\n",
    "day1.elapsed_time()"
   ]
  },
  {
   "cell_type": "code",
   "execution_count": 3,
   "metadata": {},
   "outputs": [
    {
     "data": {
      "text/plain": [
       "'-6-2-60 (21954 days)'"
      ]
     },
     "execution_count": 3,
     "metadata": {},
     "output_type": "execute_result"
    }
   ],
   "source": [
    "day2 = Date.from_string('18-05-1958')\n",
    "day2.elapsed_time()"
   ]
  },
  {
   "cell_type": "code",
   "execution_count": null,
   "metadata": {},
   "outputs": [],
   "source": []
  }
 ],
 "metadata": {
  "kernelspec": {
   "display_name": "Python 3",
   "language": "python",
   "name": "python3"
  },
  "language_info": {
   "codemirror_mode": {
    "name": "ipython",
    "version": 3
   },
   "file_extension": ".py",
   "mimetype": "text/x-python",
   "name": "python",
   "nbconvert_exporter": "python",
   "pygments_lexer": "ipython3",
   "version": "3.6.6"
  }
 },
 "nbformat": 4,
 "nbformat_minor": 2
}
