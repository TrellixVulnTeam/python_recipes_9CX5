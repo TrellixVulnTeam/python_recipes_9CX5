{
 "cells": [
  {
   "cell_type": "code",
   "execution_count": 1,
   "metadata": {},
   "outputs": [],
   "source": [
    "# Define a class and use two different ways to construct it\n",
    "from datetime import datetime\n",
    "class Date(object):\n",
    "    def __init__(self, day=0, month=0, year=0):\n",
    "        self._day = day\n",
    "        self._month = month\n",
    "        self._year = year\n",
    "    \n",
    "    def __add__(self, dude):\n",
    "        return Date(\n",
    "        self.day + dude.day,\n",
    "        self.month + dude.month,\n",
    "        self.year + dude.year)\n",
    "    \n",
    "    def __sub__(self, dude):\n",
    "        return Date(\n",
    "        self.day - dude.day,\n",
    "        self.month - dude.month,\n",
    "        self.year - dude.year)\n",
    "    \n",
    "    @classmethod\n",
    "    def from_string(cls, date_string):\n",
    "        # map(func, iter): apply func to each elem in iter\n",
    "        date_tuple = map(int, date_string.split('-'))\n",
    "        sdate = cls(*date_tuple)\n",
    "        return sdate\n",
    "    \n",
    "    @property\n",
    "    def day(self):\n",
    "        return self._day\n",
    "    \n",
    "    @day.setter\n",
    "    def day(self, dd):\n",
    "        if 0 <= dd < 32:\n",
    "            self._day = dd\n",
    "        else:\n",
    "            raise ValueError(f'Day should be 0-31 (given: {dd})')  \n",
    "            \n",
    "    @property\n",
    "    def month(self):\n",
    "        return self._month\n",
    "    \n",
    "    @month.setter\n",
    "    def month(self, mm):\n",
    "        if 0 <= mm < 13:\n",
    "            self._month = mm\n",
    "        else:\n",
    "            raise ValueError(f'Month should be 0-12 (given: {mm})') \n",
    "            \n",
    "    @property\n",
    "    def year(self):\n",
    "        return self._year\n",
    "    \n",
    "    @year.setter\n",
    "    def year(self, yy):\n",
    "        if -4000 <= yy < 4001:\n",
    "            self._year = yy\n",
    "        else:\n",
    "            raise ValueError(f'Year should be -4000-4000 (given: {yy})') \n",
    "    \n",
    "    def to_string(self):\n",
    "        return f'{self.day}-{self.month}-{self.year}'"
   ]
  },
  {
   "cell_type": "code",
   "execution_count": 2,
   "metadata": {},
   "outputs": [
    {
     "data": {
      "text/plain": [
       "'8-7-1957'"
      ]
     },
     "execution_count": 2,
     "metadata": {},
     "output_type": "execute_result"
    }
   ],
   "source": [
    "day1 = Date(8, 7, 1957)\n",
    "day1.to_string()"
   ]
  },
  {
   "cell_type": "code",
   "execution_count": 3,
   "metadata": {},
   "outputs": [
    {
     "data": {
      "text/plain": [
       "'2-7-1957'"
      ]
     },
     "execution_count": 3,
     "metadata": {},
     "output_type": "execute_result"
    }
   ],
   "source": [
    "day1.day = 2\n",
    "day1.to_string()"
   ]
  },
  {
   "cell_type": "code",
   "execution_count": 4,
   "metadata": {},
   "outputs": [
    {
     "ename": "ValueError",
     "evalue": "Day should be 0-31 (given: 50)",
     "output_type": "error",
     "traceback": [
      "\u001b[0;31m---------------------------------------------------------------------------\u001b[0m",
      "\u001b[0;31mValueError\u001b[0m                                Traceback (most recent call last)",
      "\u001b[0;32m<ipython-input-4-591cdb75212d>\u001b[0m in \u001b[0;36m<module>\u001b[0;34m()\u001b[0m\n\u001b[0;32m----> 1\u001b[0;31m \u001b[0mday1\u001b[0m\u001b[0;34m.\u001b[0m\u001b[0mday\u001b[0m \u001b[0;34m=\u001b[0m \u001b[0;36m50\u001b[0m\u001b[0;34m\u001b[0m\u001b[0m\n\u001b[0m",
      "\u001b[0;32m<ipython-input-1-92c2894a5491>\u001b[0m in \u001b[0;36mday\u001b[0;34m(self, dd)\u001b[0m\n\u001b[1;32m     35\u001b[0m             \u001b[0mself\u001b[0m\u001b[0;34m.\u001b[0m\u001b[0m_day\u001b[0m \u001b[0;34m=\u001b[0m \u001b[0mdd\u001b[0m\u001b[0;34m\u001b[0m\u001b[0m\n\u001b[1;32m     36\u001b[0m         \u001b[0;32melse\u001b[0m\u001b[0;34m:\u001b[0m\u001b[0;34m\u001b[0m\u001b[0m\n\u001b[0;32m---> 37\u001b[0;31m             \u001b[0;32mraise\u001b[0m \u001b[0mValueError\u001b[0m\u001b[0;34m(\u001b[0m\u001b[0;34mf'Day should be 0-31 (given: {dd})'\u001b[0m\u001b[0;34m)\u001b[0m\u001b[0;34m\u001b[0m\u001b[0m\n\u001b[0m\u001b[1;32m     38\u001b[0m \u001b[0;34m\u001b[0m\u001b[0m\n\u001b[1;32m     39\u001b[0m     \u001b[0;34m@\u001b[0m\u001b[0mproperty\u001b[0m\u001b[0;34m\u001b[0m\u001b[0m\n",
      "\u001b[0;31mValueError\u001b[0m: Day should be 0-31 (given: 50)"
     ]
    }
   ],
   "source": [
    "day1.day = 50"
   ]
  },
  {
   "cell_type": "code",
   "execution_count": null,
   "metadata": {},
   "outputs": [],
   "source": []
  }
 ],
 "metadata": {
  "kernelspec": {
   "display_name": "Python 3",
   "language": "python",
   "name": "python3"
  },
  "language_info": {
   "codemirror_mode": {
    "name": "ipython",
    "version": 3
   },
   "file_extension": ".py",
   "mimetype": "text/x-python",
   "name": "python",
   "nbconvert_exporter": "python",
   "pygments_lexer": "ipython3",
   "version": "3.6.6"
  }
 },
 "nbformat": 4,
 "nbformat_minor": 2
}
