{
 "cells": [
  {
   "cell_type": "markdown",
   "metadata": {},
   "source": [
    "# Configparser module\n",
    "__[Python documentation](https://docs.python.org/3/library/configparser.html)__\n",
    "\n",
    "__[Stackoverflow comment on how to use json to handle values](https://stackoverflow.com/questions/335695/lists-in-configparser/9735884#9735884)__"
   ]
  },
  {
   "cell_type": "code",
   "execution_count": 1,
   "metadata": {},
   "outputs": [],
   "source": [
    "import configparser, json\n",
    "from pprint import pprint"
   ]
  },
  {
   "cell_type": "code",
   "execution_count": 2,
   "metadata": {},
   "outputs": [
    {
     "data": {
      "text/plain": [
       "configparser.ConfigParser"
      ]
     },
     "execution_count": 2,
     "metadata": {},
     "output_type": "execute_result"
    }
   ],
   "source": [
    "config = configparser.ConfigParser()\n",
    "config.read('highaims_settings.conf')\n",
    "type(config)"
   ]
  },
  {
   "cell_type": "code",
   "execution_count": 3,
   "metadata": {},
   "outputs": [
    {
     "data": {
      "text/plain": [
       "['common', 'structure', 'dft', 'phonons']"
      ]
     },
     "execution_count": 3,
     "metadata": {},
     "output_type": "execute_result"
    }
   ],
   "source": [
    "config.sections()"
   ]
  },
  {
   "cell_type": "code",
   "execution_count": 4,
   "metadata": {},
   "outputs": [
    {
     "name": "stdout",
     "output_type": "stream",
     "text": [
      "\n",
      "relativistic xc basisset tiers k_grid use_spg_kgrid conv_etol\n"
     ]
    }
   ],
   "source": [
    "print(*config['DEFAULT'])\n",
    "print(*config['dft'])"
   ]
  },
  {
   "cell_type": "code",
   "execution_count": 5,
   "metadata": {},
   "outputs": [
    {
     "name": "stdout",
     "output_type": "stream",
     "text": [
      "relativistic: atomic_zora_scalar                   <class 'str'>\n",
      "xc: pw-lda                                         <class 'str'>\n",
      "basisset: light                                    <class 'str'>\n",
      "tiers: 1                                           <class 'str'>\n",
      "k_grid: [4, 4, 4]                                  <class 'str'>\n",
      "use_spg_kgrid: False                               <class 'str'>\n",
      "conv_etol: 0.1                                     <class 'str'>\n"
     ]
    }
   ],
   "source": [
    "for key in config['dft']:\n",
    "    val = config['dft'][key]\n",
    "    print(\"{:50s} {}\".format(f\"{key}: {val}\", type(val)))"
   ]
  },
  {
   "cell_type": "markdown",
   "metadata": {},
   "source": [
    "## Loading with json"
   ]
  },
  {
   "cell_type": "code",
   "execution_count": 6,
   "metadata": {},
   "outputs": [],
   "source": [
    "class Config(configparser.ConfigParser):\n",
    "    \"\"\"ConfigParser that has a slightly more clever get function.\"\"\"\n",
    "    def __init__(self, *args, **kwargs):\n",
    "        super().__init__(*args, **kwargs)\n",
    "        # self.__dict__ = self\n",
    "    \n",
    "    def getval(self, *args, **kwargs):\n",
    "        try:\n",
    "            return json.loads(self.get(*args, **kwargs))\n",
    "        except json.JSONDecodeError:\n",
    "            try:\n",
    "                return self.getboolean(*args, **kwargs)\n",
    "            except ValueError: \n",
    "                return self.get(*args, **kwargs)"
   ]
  },
  {
   "cell_type": "code",
   "execution_count": 7,
   "metadata": {},
   "outputs": [
    {
     "name": "stdout",
     "output_type": "stream",
     "text": [
      "relativistic: atomic_zora_scalar                   <class 'str'>\n",
      "xc: pw-lda                                         <class 'str'>\n",
      "basisset: light                                    <class 'str'>\n",
      "tiers: 1                                           <class 'int'>\n",
      "k_grid: [4, 4, 4]                                  <class 'list'>\n",
      "use_spg_kgrid: False                               <class 'bool'>\n",
      "conv_etol: 0.1                                     <class 'float'>\n"
     ]
    }
   ],
   "source": [
    "config = Config()\n",
    "config.read('highaims_settings.conf')\n",
    "for key in config['dft']:\n",
    "    val = config.getval('dft', key)                \n",
    "    print(\"{:50s} {}\".format(f\"{key}: {val}\", type(val)))"
   ]
  },
  {
   "cell_type": "markdown",
   "metadata": {},
   "source": [
    "## How to pick the last element in iterator\n",
    "REM: The default _dict_\\__type_ in ConfigParser is _collections.OrdererDict_"
   ]
  },
  {
   "cell_type": "markdown",
   "metadata": {},
   "source": [
    "stupid but straightforward solution:"
   ]
  },
  {
   "cell_type": "code",
   "execution_count": 8,
   "metadata": {},
   "outputs": [
    {
     "data": {
      "text/plain": [
       "'deviate_n'"
      ]
     },
     "execution_count": 8,
     "metadata": {},
     "output_type": "execute_result"
    }
   ],
   "source": [
    "[*config['phonons'].keys()][-1]"
   ]
  },
  {
   "cell_type": "markdown",
   "metadata": {},
   "source": [
    "probably more clever:"
   ]
  },
  {
   "cell_type": "code",
   "execution_count": 9,
   "metadata": {},
   "outputs": [
    {
     "data": {
      "text/plain": [
       "'deviate_n'"
      ]
     },
     "execution_count": 9,
     "metadata": {},
     "output_type": "execute_result"
    }
   ],
   "source": [
    "*_, last_elem = config['phonons'].keys()\n",
    "last_elem"
   ]
  },
  {
   "cell_type": "code",
   "execution_count": null,
   "metadata": {},
   "outputs": [],
   "source": []
  }
 ],
 "metadata": {
  "kernelspec": {
   "display_name": "Python 3",
   "language": "python",
   "name": "python3"
  },
  "language_info": {
   "codemirror_mode": {
    "name": "ipython",
    "version": 3
   },
   "file_extension": ".py",
   "mimetype": "text/x-python",
   "name": "python",
   "nbconvert_exporter": "python",
   "pygments_lexer": "ipython3",
   "version": "3.6.6"
  }
 },
 "nbformat": 4,
 "nbformat_minor": 2
}
