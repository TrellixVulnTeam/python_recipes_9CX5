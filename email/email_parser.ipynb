{
 "cells": [
  {
   "cell_type": "code",
   "execution_count": 1,
   "metadata": {},
   "outputs": [
    {
     "data": {
      "text/plain": [
       "'en_US.UTF-8'"
      ]
     },
     "execution_count": 1,
     "metadata": {},
     "output_type": "execute_result"
    }
   ],
   "source": [
    "import time\n",
    "import email\n",
    "import locale\n",
    "\n",
    "locale.setlocale(locale.LC_TIME, 'en_US.UTF-8')"
   ]
  },
  {
   "cell_type": "code",
   "execution_count": 2,
   "metadata": {},
   "outputs": [],
   "source": [
    "parser = email.parser.Parser()"
   ]
  },
  {
   "cell_type": "code",
   "execution_count": 3,
   "metadata": {},
   "outputs": [],
   "source": [
    "mail = parser.parse(open('100047'))"
   ]
  },
  {
   "cell_type": "markdown",
   "metadata": {},
   "source": [
    "## Extract Time"
   ]
  },
  {
   "cell_type": "code",
   "execution_count": 4,
   "metadata": {},
   "outputs": [
    {
     "data": {
      "text/plain": [
       "time.struct_time(tm_year=2019, tm_mon=10, tm_mday=28, tm_hour=12, tm_min=13, tm_sec=9, tm_wday=0, tm_yday=301, tm_isdst=-1)"
      ]
     },
     "execution_count": 4,
     "metadata": {},
     "output_type": "execute_result"
    }
   ],
   "source": [
    "t = time.strptime(mail['Date'], '%a, %d %b %Y %H:%M:%S %z')\n",
    "t"
   ]
  },
  {
   "cell_type": "code",
   "execution_count": 5,
   "metadata": {},
   "outputs": [
    {
     "data": {
      "text/plain": [
       "(28, 10, 2019)"
      ]
     },
     "execution_count": 5,
     "metadata": {},
     "output_type": "execute_result"
    }
   ],
   "source": [
    "t.tm_mday, t.tm_mon, t.tm_year"
   ]
  },
  {
   "cell_type": "markdown",
   "metadata": {},
   "source": [
    "## Subject"
   ]
  },
  {
   "cell_type": "code",
   "execution_count": 6,
   "metadata": {},
   "outputs": [
    {
     "data": {
      "text/plain": [
       "'COBRA SLURM Job_id=1759039 Name=aims|cobra Began, Queued time\\n 00:08:37'"
      ]
     },
     "execution_count": 6,
     "metadata": {},
     "output_type": "execute_result"
    }
   ],
   "source": [
    "mail['Subject']"
   ]
  },
  {
   "cell_type": "markdown",
   "metadata": {},
   "source": [
    "## Full Text"
   ]
  },
  {
   "cell_type": "code",
   "execution_count": 7,
   "metadata": {},
   "outputs": [
    {
     "name": "stdout",
     "output_type": "stream",
     "text": [
      "Return-Path: <slurm@mpcdf.mpg.de>\n",
      "Received: from m0.fhi-berlin.mpg.de (m0.fhi-berlin.mpg.de [141.14.141.214])\n",
      "\t by imap.fhi-berlin.mpg.de with LMTPA;\n",
      "\t Mon, 28 Oct 2019 12:13:10 +0100\n",
      "X-Sieve: CMU Sieve 2.4\n",
      "Received: from m0.fhi-berlin.mpg.de (localhost [127.0.0.1])\n",
      "\tby localhost (Postfix) with SMTP id 2067EA04F7\n",
      "\tfor <knoop@fhi-berlin.mpg.de>; Mon, 28 Oct 2019 12:13:10 +0100 (CET)\n",
      "Received: from malve.mpcdf.mpg.de (malve.mpcdf.mpg.de [130.183.9.29])\n",
      "\t(using TLSv1.2 with cipher AECDH-AES256-SHA (256/256 bits))\n",
      "\t(No client certificate requested)\n",
      "\tby m0.fhi-berlin.mpg.de (Postfix) with ESMTPS id 1AD74A049C\n",
      "\tfor <knoop@fhi-berlin.mpg.de>; Mon, 28 Oct 2019 12:13:10 +0100 (CET)\n",
      "Received: from sl0.hpc.mpcdf.mpg.de (unknown [10.180.0.13])\n",
      "\tby malve.mpcdf.mpg.de (Postfix) with ESMTP id CBB48C000063\n",
      "\tfor <knoop@fhi-berlin.mpg.de>; Mon, 28 Oct 2019 12:13:09 +0100 (CET)\n",
      "Received: by sl0.hpc.mpcdf.mpg.de (Postfix, from userid 300)\n",
      "\tid C9E95F8; Mon, 28 Oct 2019 12:13:09 +0100 (CET)\n",
      "Date: Mon, 28 Oct 2019 12:13:09 +0100\n",
      "To: knoop@fhi-berlin.mpg.de\n",
      "Subject: COBRA SLURM Job_id=1759039 Name=aims|cobra Began, Queued time\n",
      " 00:08:37\n",
      "User-Agent: Heirloom mailx 12.5 7/5/10\n",
      "MIME-Version: 1.0\n",
      "Content-Type: text/plain; charset=us-ascii\n",
      "Content-Transfer-Encoding: quoted-printable\n",
      "Message-Id: <20191028111309.C9E95F8@sl0.hpc.mpcdf.mpg.de>\n",
      "From: slurm@mpcdf.mpg.de (slurm admin)\n",
      "X-PMX-Version: 6.4.8.2820816, Antispam-Engine: 2.7.2.2107409, Antispam-Data: 2019.10.28.110916, AntiVirus-Engine: 5.68.0, AntiVirus-Data: 2019.10.28.5680000\n",
      "\n",
      "=\n",
      "\n"
     ]
    }
   ],
   "source": [
    "mime_text = open('100047').read()\n",
    "print(mime_text)"
   ]
  },
  {
   "cell_type": "code",
   "execution_count": null,
   "metadata": {},
   "outputs": [],
   "source": []
  }
 ],
 "metadata": {
  "kernelspec": {
   "display_name": "Python 3",
   "language": "python",
   "name": "python3"
  },
  "language_info": {
   "codemirror_mode": {
    "name": "ipython",
    "version": 3
   },
   "file_extension": ".py",
   "mimetype": "text/x-python",
   "name": "python",
   "nbconvert_exporter": "python",
   "pygments_lexer": "ipython3",
   "version": "3.7.3"
  }
 },
 "nbformat": 4,
 "nbformat_minor": 2
}
