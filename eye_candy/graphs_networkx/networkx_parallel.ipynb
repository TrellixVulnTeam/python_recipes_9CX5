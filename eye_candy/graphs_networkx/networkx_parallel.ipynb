{
 "cells": [
  {
   "cell_type": "markdown",
   "metadata": {},
   "source": [
    "# Using networkx to create a hierarchical graphs\n",
    "networkx: __[networkx.github.io](https://networkx.github.io/documentation/stable/index.html)__"
   ]
  },
  {
   "cell_type": "code",
   "execution_count": 1,
   "metadata": {},
   "outputs": [],
   "source": [
    "import networkx as nx\n",
    "import re\n",
    "from pathlib import Path\n",
    "import matplotlib.pyplot as plt\n",
    "from pprint import pprint\n",
    "%matplotlib inline"
   ]
  },
  {
   "cell_type": "code",
   "execution_count": 2,
   "metadata": {},
   "outputs": [],
   "source": [
    "G = nx.DiGraph()"
   ]
  },
  {
   "cell_type": "code",
   "execution_count": 3,
   "metadata": {},
   "outputs": [
    {
     "name": "stdout",
     "output_type": "stream",
     "text": [
      "{'A': {'A0': {}, 'A1': {}, 'A2': {}},\n",
      " 'A0': {'B': {}},\n",
      " 'A1': {'B': {}},\n",
      " 'A2': {'B': {}},\n",
      " 'B': {}}\n",
      "{'A': ['A0', 'A1', 'A2'], 'A0': ['B'], 'A1': ['B'], 'A2': ['B'], 'B': []}\n"
     ]
    }
   ],
   "source": [
    "base_node = 'A'\n",
    "sub_nodes = [f'A{d}' for d in range(3)]\n",
    "final_node = 'B'\n",
    "\n",
    "G.add_nodes_from([base_node, *sub_nodes, final_node])\n",
    "G.add_edges_from([(base_node, n) for n in sub_nodes])\n",
    "G.add_edges_from([(n, final_node) for n in sub_nodes])\n",
    "\n",
    "pprint(nx.convert.to_dict_of_dicts(G))\n",
    "pprint(nx.convert.to_dict_of_lists(G))"
   ]
  },
  {
   "cell_type": "markdown",
   "metadata": {},
   "source": [
    "**REM**: \n",
    "for ```nx.drawing.nx_agraph.graphviz_layout``` one needs to install pygraphviz\n",
    "\n",
    "```pip install pygraphviz```\n",
    "\n",
    "(It might be necessery to to install graphviz first: ```apt-get install graphviz```)\n",
    "\n",
    "How to plot a hierarchichal plot is explained in\n",
    "__[stackoverflow.com/a/11484144/5172579](https://stackoverflow.com/a/11484144/5172579)__"
   ]
  },
  {
   "cell_type": "code",
   "execution_count": 4,
   "metadata": {},
   "outputs": [
    {
     "data": {
      "image/png": "[encoded data removed]",
      "text/plain": [
       "<Figure size 432x288 with 1 Axes>"
      ]
     },
     "metadata": {},
     "output_type": "display_data"
    }
   ],
   "source": [
    "pos =nx.drawing.nx_agraph.graphviz_layout(G, prog='dot')\n",
    "g = nx.draw(G, pos, with_labels=True, font_weight='bold')"
   ]
  },
  {
   "cell_type": "code",
   "execution_count": null,
   "metadata": {},
   "outputs": [],
   "source": []
  }
 ],
 "metadata": {
  "kernelspec": {
   "display_name": "Python 3",
   "language": "python",
   "name": "python3"
  },
  "language_info": {
   "codemirror_mode": {
    "name": "ipython",
    "version": 3
   },
   "file_extension": ".py",
   "mimetype": "text/x-python",
   "name": "python",
   "nbconvert_exporter": "python",
   "pygments_lexer": "ipython3",
   "version": "3.6.6"
  }
 },
 "nbformat": 4,
 "nbformat_minor": 2
}
