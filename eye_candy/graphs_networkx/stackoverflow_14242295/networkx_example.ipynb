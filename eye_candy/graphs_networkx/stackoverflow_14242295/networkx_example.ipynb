{
 "cells": [
  {
   "cell_type": "markdown",
   "metadata": {},
   "source": [
    "# Using networkx to create graphs\n",
    "networkx: __[networkx.github.io](https://networkx.github.io/documentation/stable/index.html)__\n",
    "\n",
    "answer from stackoverflow: __[stackoverflow.com/a/14244306/5172579](https://stackoverflow.com/a/14244306/5172579)__"
   ]
  },
  {
   "cell_type": "code",
   "execution_count": 1,
   "metadata": {},
   "outputs": [],
   "source": [
    "import networkx as nx\n",
    "import re\n",
    "from pathlib import Path\n",
    "import matplotlib.pyplot as plt\n",
    "%matplotlib inline"
   ]
  },
  {
   "cell_type": "code",
   "execution_count": 2,
   "metadata": {},
   "outputs": [],
   "source": [
    "raw = Path('requirements.ini').read_text()"
   ]
  },
  {
   "cell_type": "code",
   "execution_count": 3,
   "metadata": {},
   "outputs": [],
   "source": [
    "regex = re.compile(r'^([A-Z]+)::Requires\\s+=\\s([A-Z\"]+)$')"
   ]
  },
  {
   "cell_type": "code",
   "execution_count": 4,
   "metadata": {},
   "outputs": [],
   "source": [
    "G = nx.DiGraph()\n",
    "roots = set()\n",
    "for l in raw.splitlines():\n",
    "    if len(l):\n",
    "        target, prereq = regex.match(l).groups()\n",
    "        if prereq == '\"\"':\n",
    "            roots.add(target)\n",
    "        else:\n",
    "            G.add_edge(prereq, target)"
   ]
  },
  {
   "cell_type": "code",
   "execution_count": 5,
   "metadata": {},
   "outputs": [
    {
     "name": "stdout",
     "output_type": "stream",
     "text": [
      "A\n",
      "+-B\n",
      "  +-C\n",
      "+-H\n",
      "\n",
      "AA\n",
      "+-BB\n",
      "  +-CC\n",
      "\n"
     ]
    }
   ],
   "source": [
    "for s in roots:\n",
    "    print(s)\n",
    "    spacer = {s: 0}\n",
    "    for prereq, target in nx.dfs_edges(G, s):\n",
    "        spacer[target] = spacer[prereq] + 2\n",
    "        print('{spacer}+-{t}'.format(\n",
    "                                     spacer=' ' * spacer[prereq],\n",
    "                                     t=target))\n",
    "    print()"
   ]
  },
  {
   "cell_type": "code",
   "execution_count": 6,
   "metadata": {},
   "outputs": [
    {
     "data": {
      "text/plain": [
       "{'A': {'B': {}, 'H': {}},\n",
       " 'B': {'C': {}},\n",
       " 'C': {},\n",
       " 'H': {},\n",
       " 'AA': {'BB': {}},\n",
       " 'BB': {'CC': {}},\n",
       " 'CC': {}}"
      ]
     },
     "execution_count": 6,
     "metadata": {},
     "output_type": "execute_result"
    }
   ],
   "source": [
    "nx.convert.to_dict_of_dicts(G)"
   ]
  },
  {
   "cell_type": "code",
   "execution_count": 7,
   "metadata": {},
   "outputs": [
    {
     "data": {
      "text/plain": [
       "{'A': ['B', 'H'],\n",
       " 'B': ['C'],\n",
       " 'C': [],\n",
       " 'H': [],\n",
       " 'AA': ['BB'],\n",
       " 'BB': ['CC'],\n",
       " 'CC': []}"
      ]
     },
     "execution_count": 7,
     "metadata": {},
     "output_type": "execute_result"
    }
   ],
   "source": [
    "nx.convert.to_dict_of_lists(G)"
   ]
  },
  {
   "cell_type": "code",
   "execution_count": 8,
   "metadata": {},
   "outputs": [
    {
     "data": {
      "image/png": "[encoded data removed]",
      "text/plain": [
       "<Figure size 432x288 with 1 Axes>"
      ]
     },
     "metadata": {},
     "output_type": "display_data"
    }
   ],
   "source": [
    "g = nx.draw_circular(G, with_labels=True, font_weight='bold')"
   ]
  },
  {
   "cell_type": "code",
   "execution_count": null,
   "metadata": {},
   "outputs": [],
   "source": []
  }
 ],
 "metadata": {
  "kernelspec": {
   "display_name": "Python 3",
   "language": "python",
   "name": "python3"
  },
  "language_info": {
   "codemirror_mode": {
    "name": "ipython",
    "version": 3
   },
   "file_extension": ".py",
   "mimetype": "text/x-python",
   "name": "python",
   "nbconvert_exporter": "python",
   "pygments_lexer": "ipython3",
   "version": "3.6.6"
  }
 },
 "nbformat": 4,
 "nbformat_minor": 2
}
