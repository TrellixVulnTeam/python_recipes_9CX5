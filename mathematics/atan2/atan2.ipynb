{
 "cells": [
  {
   "cell_type": "code",
   "execution_count": 1,
   "metadata": {},
   "outputs": [],
   "source": [
    "from numpy import pi, sin, cos, arctan2, arange"
   ]
  },
  {
   "cell_type": "code",
   "execution_count": 2,
   "metadata": {},
   "outputs": [
    {
     "name": "stdout",
     "output_type": "stream",
     "text": [
      "φ:   0.00  -> arctan2:    0.00\n",
      "φ:  36.00  -> arctan2:   36.00\n",
      "φ:  72.00  -> arctan2:   72.00\n",
      "φ: 108.00  -> arctan2:  108.00\n",
      "φ: 144.00  -> arctan2:  144.00\n",
      "φ: 180.00  -> arctan2:  180.00\n",
      "φ: 216.00  -> arctan2: -144.00\n",
      "φ: 252.00  -> arctan2: -108.00\n",
      "φ: 288.00  -> arctan2:  -72.00\n",
      "φ: 324.00  -> arctan2:  -36.00\n",
      "φ: 360.00  -> arctan2:   -0.00\n"
     ]
    }
   ],
   "source": [
    "for phi in arange(0, 1.1, .1) * 2 * pi:\n",
    "    x, y = cos(phi), sin(phi)\n",
    "    print(f'\\u03C6: {phi  * 180 / pi:6.2f}  -> arctan2: {arctan2(y, x) * 180 / pi:7.2f}')"
   ]
  },
  {
   "cell_type": "code",
   "execution_count": null,
   "metadata": {},
   "outputs": [],
   "source": []
  }
 ],
 "metadata": {
  "kernelspec": {
   "display_name": "Python 3",
   "language": "python",
   "name": "python3"
  },
  "language_info": {
   "codemirror_mode": {
    "name": "ipython",
    "version": 3
   },
   "file_extension": ".py",
   "mimetype": "text/x-python",
   "name": "python",
   "nbconvert_exporter": "python",
   "pygments_lexer": "ipython3",
   "version": "3.7.0"
  }
 },
 "nbformat": 4,
 "nbformat_minor": 2
}
