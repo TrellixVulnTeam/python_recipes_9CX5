{
 "cells": [
  {
   "cell_type": "code",
   "execution_count": 1,
   "metadata": {},
   "outputs": [],
   "source": [
    "import numpy as np"
   ]
  },
  {
   "cell_type": "code",
   "execution_count": 2,
   "metadata": {},
   "outputs": [
    {
     "data": {
      "text/plain": [
       "array([[ 0.,  3.,  6.],\n",
       "       [ 3.,  6.,  9.],\n",
       "       [ 6.,  9., 12.]])"
      ]
     },
     "execution_count": 2,
     "metadata": {},
     "output_type": "execute_result"
    }
   ],
   "source": [
    "m = np.zeros(2 * [3,])\n",
    "\n",
    "for ij in np.ndindex(m.shape):\n",
    "    m[ij] = ij[0] + ij[1] * 2\n",
    "\n",
    "m += m.T\n",
    "m"
   ]
  },
  {
   "cell_type": "code",
   "execution_count": 3,
   "metadata": {},
   "outputs": [
    {
     "data": {
      "text/plain": [
       "(array([-2.61895004e+00, -3.21059368e-16,  2.06189500e+01]),\n",
       " array([[ 0.8598926 ,  0.40824829, -0.30646053],\n",
       "        [ 0.19382266, -0.81649658, -0.54384383],\n",
       "        [-0.47224729,  0.40824829, -0.78122713]]))"
      ]
     },
     "execution_count": 3,
     "metadata": {},
     "output_type": "execute_result"
    }
   ],
   "source": [
    "evs, evecs = np.linalg.eigh(m)\n",
    "\n",
    "evs, evecs"
   ]
  },
  {
   "cell_type": "code",
   "execution_count": 4,
   "metadata": {},
   "outputs": [
    {
     "name": "stdout",
     "output_type": "stream",
     "text": [
      "1.5543122344752192e-15 [0. 0. 0.]\n",
      "4.7718044982237e-16 [ 0.  0. -0.]\n",
      "8.379058453350832e-15 [ 0. -0. -0.]\n"
     ]
    }
   ],
   "source": [
    "# verify M |s> = m_s |s> forall s\n",
    "\n",
    "for ev, v in zip(evs, evecs.T):\n",
    "    d = m @ v - ev * v\n",
    "    print(np.linalg.norm(d), d.round(decimals=12))"
   ]
  },
  {
   "cell_type": "code",
   "execution_count": 5,
   "metadata": {},
   "outputs": [
    {
     "data": {
      "text/plain": [
       "array([[-0.,  3.,  6.],\n",
       "       [ 3.,  6.,  9.],\n",
       "       [ 6.,  9., 12.]])"
      ]
     },
     "execution_count": 5,
     "metadata": {},
     "output_type": "execute_result"
    }
   ],
   "source": [
    "# verify M = \\sum_s |s> m_s <s|\n",
    "# -> M_ij = \\sum_s s^i m_s s^j\n",
    "\n",
    "M = np.zeros_like(m)\n",
    "\n",
    "for (i, j) in np.ndindex(M.shape):\n",
    "    tmp = 0\n",
    "    for s, ev in enumerate(evs):\n",
    "        # tmp += ev * evecs[i, s] * evecs[j, s]\n",
    "        tmp += ev * evecs.T[s, i] * evecs.T[s, j]\n",
    "\n",
    "    M[i, j] = tmp\n",
    "\n",
    "M.round(0)"
   ]
  },
  {
   "cell_type": "code",
   "execution_count": 6,
   "metadata": {},
   "outputs": [
    {
     "data": {
      "text/plain": [
       "array([[-0.,  3.,  6.],\n",
       "       [ 3.,  6.,  9.],\n",
       "       [ 6.,  9., 12.]])"
      ]
     },
     "execution_count": 6,
     "metadata": {},
     "output_type": "execute_result"
    }
   ],
   "source": [
    "# verify M = \\sum_s |s> m_s <s|\n",
    "# M_ij = \\sum_s s^i m_s s^j\n",
    "\n",
    "M = np.zeros_like(m)\n",
    "\n",
    "for ev, v in zip(evs, evecs.T):\n",
    "    M += ev * np.outer(v, v)\n",
    "\n",
    "\n",
    "M.round(0)"
   ]
  },
  {
   "cell_type": "code",
   "execution_count": 7,
   "metadata": {},
   "outputs": [
    {
     "data": {
      "text/plain": [
       "array([ 0.96168036, -1.16651776, -0.84522613])"
      ]
     },
     "execution_count": 7,
     "metadata": {},
     "output_type": "execute_result"
    }
   ],
   "source": [
    "evecs.sum(axis=1)"
   ]
  },
  {
   "cell_type": "code",
   "execution_count": 8,
   "metadata": {},
   "outputs": [
    {
     "data": {
      "text/plain": [
       "array([0, 1, 2])"
      ]
     },
     "execution_count": 8,
     "metadata": {},
     "output_type": "execute_result"
    }
   ],
   "source": [
    "V = np.arange(3)\n",
    "V"
   ]
  },
  {
   "cell_type": "code",
   "execution_count": 9,
   "metadata": {},
   "outputs": [
    {
     "data": {
      "text/plain": [
       "array([[ 1.,  0., -0.],\n",
       "       [ 0.,  1., -0.],\n",
       "       [-0., -0.,  1.]])"
      ]
     },
     "execution_count": 9,
     "metadata": {},
     "output_type": "execute_result"
    }
   ],
   "source": [
    "(evecs.T @ evecs).round(decimals=12)"
   ]
  },
  {
   "cell_type": "code",
   "execution_count": null,
   "metadata": {},
   "outputs": [],
   "source": []
  }
 ],
 "metadata": {
  "kernelspec": {
   "display_name": "Python 3",
   "language": "python",
   "name": "python3"
  },
  "language_info": {
   "codemirror_mode": {
    "name": "ipython",
    "version": 3
   },
   "file_extension": ".py",
   "mimetype": "text/x-python",
   "name": "python",
   "nbconvert_exporter": "python",
   "pygments_lexer": "ipython3",
   "version": "3.8.1"
  }
 },
 "nbformat": 4,
 "nbformat_minor": 2
}
