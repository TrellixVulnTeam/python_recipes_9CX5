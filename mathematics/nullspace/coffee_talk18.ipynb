{
 "cells": [
  {
   "cell_type": "markdown",
   "metadata": {},
   "source": [
    "## Worked example: Symmetry reduction"
   ]
  },
  {
   "cell_type": "code",
   "execution_count": 1,
   "metadata": {},
   "outputs": [],
   "source": [
    "import numpy as np\n",
    "import sympy as sp\n",
    "import scipy.linalg as la"
   ]
  },
  {
   "cell_type": "markdown",
   "metadata": {},
   "source": [
    "### Some routines for creating rotation matrices and transpositions"
   ]
  },
  {
   "cell_type": "code",
   "execution_count": 2,
   "metadata": {},
   "outputs": [],
   "source": [
    "def get_rotation_matrix(phi, axis):\n",
    "    cp = np.cos(phi)\n",
    "    sp = np.sin(phi)\n",
    "    r1, r2, r3 = axis\n",
    "    Rm = np.array(\n",
    "        [\n",
    "            [\n",
    "                r1 ** 2 * (1 - cp) + cp,\n",
    "                r1 * r2 * (1 - cp) - r3 * sp,\n",
    "                r1 * r3 * (1 - cp) + r2 * sp,\n",
    "            ],\n",
    "            [\n",
    "                r1 * r2 * (1 - cp) + r3 * sp,\n",
    "                r2 ** 2 * (1 - cp) + cp,\n",
    "                r2 * r3 * (1 - cp) - r1 * sp,\n",
    "            ],\n",
    "            [\n",
    "                r3 * r1 * (1 - cp) - r2 * sp,\n",
    "                r2 * r3 * (1 - cp) + r1 * sp,\n",
    "                r3 ** 2 * (1 - cp) + cp,\n",
    "            ],\n",
    "        ]\n",
    "    )\n",
    "    # Clean spurious terms\n",
    "    for ii, jj in np.ndindex(Rm.shape):\n",
    "        if abs(Rm[ii, jj]) < 1e-10:\n",
    "            Rm[ii, jj] = 0\n",
    "    sp = np.sin(phi)\n",
    "    return Rm\n",
    "\n",
    "\n",
    "def get_transposition(nd, verbose=0):\n",
    "    # Make a basis:\n",
    "    basis_nd = []\n",
    "    for ii in range(nd):\n",
    "        for jj in range(nd):\n",
    "            emp = np.zeros([nd, nd], dtype=\"int8\")\n",
    "            bb = emp\n",
    "            bb[ii, jj] = 1\n",
    "            basis_nd.append(bb)\n",
    "    #\n",
    "    # Build transpose and return:\n",
    "    transp = np.array([bb.T.flatten() for bb in basis_nd])\n",
    "\n",
    "    return transp\n",
    "\n",
    "\n",
    "# pretty print matrix\n",
    "def pprint(M, maxl=80):\n",
    "    M = np.atleast_2d(M)\n",
    "    dim1, dim2 = M.shape\n",
    "    lengths = [len(str(el)) for el in M.flatten()]\n",
    "    maxl = min(maxl, max(lengths))\n",
    "    for ii in range(dim1):\n",
    "        print(\n",
    "            (f\" | \" + \" ,  \".join([f\"{str(el)[:maxl]:{maxl}s}\" for el in M[ii]]) + \" |\")\n",
    "        )"
   ]
  },
  {
   "cell_type": "markdown",
   "metadata": {},
   "source": [
    "### Start: Define a matrix $A$\n",
    "* Define a general 3x3 matrix $A$ and its 9x1 vectorized representation\n",
    "$$ \\boldsymbol{a} = {\\textbf{vec}} (A)$$\n",
    "\n",
    "* $A$ and $\\boldsymbol a$ can, e.g., represent a physical tensor (conductivity, stress, ...)"
   ]
  },
  {
   "cell_type": "code",
   "execution_count": 3,
   "metadata": {},
   "outputs": [
    {
     "name": "stdout",
     "output_type": "stream",
     "text": [
      "Matrix A:\n",
      " | a_00 ,  a_01 ,  a_02 |\n",
      " | a_10 ,  a_11 ,  a_12 |\n",
      " | a_20 ,  a_21 ,  a_22 |\n",
      "vec(A):\n",
      " | a_00 ,  a_01 ,  a_02 ,  a_10 ,  a_11 ,  a_12 ,  a_20 ,  a_21 ,  a_22 |\n"
     ]
    }
   ],
   "source": [
    "ndim = 3\n",
    "sym = sp.Symbol\n",
    "A = sp.ones(ndim, ndim)\n",
    "for ii in range(ndim):\n",
    "    for jj in range(ndim):\n",
    "        A[ndim * ii + jj] = sym(f\"a_{ii}{jj}\")\n",
    "A = np.array(A)\n",
    "a = A.flatten()\n",
    "print(\"Matrix A:\")\n",
    "pprint(A)\n",
    "print(\"vec(A):\")\n",
    "pprint(a)"
   ]
  },
  {
   "cell_type": "markdown",
   "metadata": {},
   "source": [
    "### Case 1: Cubic system\n",
    "* Define 3 rotation matrices $M_i$ that implement a 90° rotation about $x$, $y$, and $z$ axis\n",
    "* Construct the rotation matrices in the flattened representatin by Roth's Relationship, i.e.\n",
    "$$ M_\\text{flat} = M \\otimes M $$\n",
    "* Add transposition (not necessary in cubic case)"
   ]
  },
  {
   "cell_type": "code",
   "execution_count": 4,
   "metadata": {},
   "outputs": [
    {
     "name": "stdout",
     "output_type": "stream",
     "text": [
      " | 1.0  ,  0.0  ,  0.0  |\n",
      " | 0.0  ,  0.0  ,  -1.0 |\n",
      " | 0.0  ,  1.0  ,  0.0  |\n"
     ]
    }
   ],
   "source": [
    "r1 = get_rotation_matrix(np.pi / 2, [1, 0, 0])\n",
    "r2 = get_rotation_matrix(np.pi / 2, [0, 1, 0])\n",
    "r3 = get_rotation_matrix(np.pi / 2, [0, 0, 1])\n",
    "pprint(r1)"
   ]
  },
  {
   "cell_type": "markdown",
   "metadata": {},
   "source": [
    "#### Construct big matrices implementing rotations (+transposition) of the vectorized tensor"
   ]
  },
  {
   "cell_type": "code",
   "execution_count": 5,
   "metadata": {},
   "outputs": [],
   "source": [
    "R1 = np.kron(r1, r1)\n",
    "R2 = np.kron(r2, r2)\n",
    "R3 = np.kron(r3, r3)\n",
    "T  = get_transposition(ndim)"
   ]
  },
  {
   "cell_type": "markdown",
   "metadata": {},
   "source": [
    "#### Now sum up the matrices we want to invariant under, i.e.\n",
    "$$ \\sum_i (\\mathbf 1 - M_i)~a = 0$$"
   ]
  },
  {
   "cell_type": "code",
   "execution_count": 6,
   "metadata": {},
   "outputs": [],
   "source": [
    "id = np.eye(len(a))\n",
    "inv = 4*id - R1 - R2 - R3 - T"
   ]
  },
  {
   "cell_type": "markdown",
   "metadata": {},
   "source": [
    "#### Consctruct nullspace by SVD\n",
    "__[scipy-cookbook.readthedocs.io/items/RankNullspace.html](http://scipy-cookbook.readthedocs.io/items/RankNullspace.html)__"
   ]
  },
  {
   "cell_type": "code",
   "execution_count": 7,
   "metadata": {},
   "outputs": [
    {
     "name": "stdout",
     "output_type": "stream",
     "text": [
      "Initial Dimension:                              9\n",
      "Rank of Nullspace (= No. irred. elements):      1\n"
     ]
    }
   ],
   "source": [
    "u, s, vh = la.svd(inv, lapack_driver=\"gesdd\")\n",
    "rank = (s > 1e-12).sum()\n",
    "\n",
    "print(f\"Initial Dimension:                              {len(a)}\")\n",
    "print(f\"Rank of Nullspace (= No. irred. elements):      {len(a) - rank}\")"
   ]
  },
  {
   "cell_type": "markdown",
   "metadata": {},
   "source": [
    "#### Construct matrices translating between full and reduced representation\n",
    "\n",
    "* $S$ reconstructs the full representation $a$ from a given reduced $\\tilde a$. One can think of $\\tilde a$ as being the components of $a$ in the basis given by the vectors in $S$:\n",
    "$$ a = S \\, \\tilde{a}$$\n",
    "\n",
    "* $S^+$ (pseudo-inverse, often just transpose) projects a given $a$ onto the irreducible components $\\tilde a$ \n",
    "$$\\tilde{a} = S^+ a$$"
   ]
  },
  {
   "cell_type": "code",
   "execution_count": 8,
   "metadata": {},
   "outputs": [],
   "source": [
    "S = vh[rank:].T\n",
    "Sp = S.T"
   ]
  },
  {
   "cell_type": "markdown",
   "metadata": {},
   "source": [
    "#### Build projectors\n",
    "* $P = S^\\vphantom{+} S^+$\n",
    "\n",
    "* $\\boldsymbol{1}_\\text{irred} = S^+ S^\\phantom{+}$"
   ]
  },
  {
   "cell_type": "code",
   "execution_count": 9,
   "metadata": {},
   "outputs": [
    {
     "name": "stdout",
     "output_type": "stream",
     "text": [
      "Projector onto invariant space\n",
      " | 0.33 ,  0.0  ,  1.77 ,  -6.9 ,  0.33 ,  1.01 ,  1.29 ,  -5.2 ,  0.33 |\n",
      " | 0.0  ,  0.0  ,  0.0  ,  0.0  ,  0.0  ,  0.0  ,  0.0  ,  0.0  ,  0.0  |\n",
      " | 1.77 ,  0.0  ,  9.49 ,  -3.6 ,  1.77 ,  5.44 ,  6.91 ,  -2.8 ,  1.77 |\n",
      " | -6.9 ,  0.0  ,  -3.6 ,  1.43 ,  -6.9 ,  -2.1 ,  -2.6 ,  1.09 ,  -6.9 |\n",
      " | 0.33 ,  0.0  ,  1.77 ,  -6.9 ,  0.33 ,  1.01 ,  1.29 ,  -5.2 ,  0.33 |\n",
      " | 1.01 ,  0.0  ,  5.44 ,  -2.1 ,  1.01 ,  3.11 ,  3.96 ,  -1.6 ,  1.01 |\n",
      " | 1.29 ,  0.0  ,  6.91 ,  -2.6 ,  1.29 ,  3.96 ,  5.04 ,  -2.0 ,  1.29 |\n",
      " | -5.2 ,  0.0  ,  -2.8 ,  1.09 ,  -5.2 ,  -1.6 ,  -2.0 ,  8.28 ,  -5.2 |\n",
      " | 0.33 ,  0.0  ,  1.77 ,  -6.9 ,  0.33 ,  1.01 ,  1.29 ,  -5.2 ,  0.33 |\n",
      "Identity within invariant space\n",
      " | 1.0000000000000002 |\n"
     ]
    }
   ],
   "source": [
    "P = S @ Sp\n",
    "id_irred = Sp @ S\n",
    "print(\"Projector onto invariant space\")\n",
    "pprint(P, 4)\n",
    "print(\"Identity within invariant space\")\n",
    "pprint(id_irred)"
   ]
  },
  {
   "cell_type": "markdown",
   "metadata": {},
   "source": [
    "#### Symmetrize the tensor with the projector obtained\n",
    "$$ \\text{sym} (a) = P a = S^\\vphantom{+} S^+ a = S \\, \\tilde a $$"
   ]
  },
  {
   "cell_type": "code",
   "execution_count": 10,
   "metadata": {},
   "outputs": [],
   "source": [
    "aT = np.dot(Sp, a)\n",
    "aS = np.dot(S, aT) # = np.dot(P, a)"
   ]
  },
  {
   "cell_type": "markdown",
   "metadata": {},
   "source": [
    "#### How does the matrix $A$ now look like?\n",
    "$$A = \\text{unvec} \\left( \\text{sym} (a) \\right)$$"
   ]
  },
  {
   "cell_type": "code",
   "execution_count": 11,
   "metadata": {},
   "outputs": [
    {
     "name": "stdout",
     "output_type": "stream",
     "text": [
      "1/3*\n",
      " | 1.0*a_00 + 5.33729362479519e-33*a_02 - 2.07749100017982e-35*a_10 + 1.0*a_11 + 3. ,  0                                                                                ,  5.33729362479519e-33*a_00 + 2.84867032372794e-65*a_02 - 1.10881794708291e-67*a_1 |\n",
      " | -2.07749100017982e-35*a_00 - 1.10881794708291e-67*a_02 + 4.31596885582815e-70*a_ ,  1.0*a_00 + 5.33729362479519e-33*a_02 - 2.07749100017982e-35*a_10 + 1.0*a_11 + 3. ,  3.05816280424746e-34*a_00 + 1.63223128386957e-66*a_02 - 6.35330570290877e-69*a_1 |\n",
      " | 3.8891592043194e-34*a_00 + 2.07575846270274e-66*a_02 - 8.07969324524005e-69*a_10 ,  -1.57643859172956e-33*a_00 - 8.41391564551927e-66*a_02 + 3.2750369866543e-68*a_1 ,  1.0*a_00 + 5.33729362479519e-33*a_02 - 2.07749100017982e-35*a_10 + 1.0*a_11 + 3. |\n"
     ]
    }
   ],
   "source": [
    "As = aS.reshape(3,3)\n",
    "\n",
    "print('1/3*')\n",
    "pprint(3*As)"
   ]
  },
  {
   "cell_type": "markdown",
   "metadata": {},
   "source": [
    "$= \\frac{1}{3} \\text{Tr A}$ "
   ]
  },
  {
   "cell_type": "markdown",
   "metadata": {},
   "source": [
    "## How about hexagonal?\n",
    "Start with defining three-fold rotations in $x,y$ plane, i.e., about $z$ axis"
   ]
  },
  {
   "cell_type": "code",
   "execution_count": 12,
   "metadata": {},
   "outputs": [],
   "source": [
    "r1 = get_rotation_matrix(np.pi / 6, [0, 0, 1])\n",
    "r2 = get_rotation_matrix(np.pi / 3, [0, 0, 1])"
   ]
  },
  {
   "cell_type": "markdown",
   "metadata": {},
   "source": [
    "Construct the matrices in the flatten represenation as before"
   ]
  },
  {
   "cell_type": "code",
   "execution_count": 13,
   "metadata": {},
   "outputs": [],
   "source": [
    "R1 = np.kron(r1, r1)\n",
    "R2 = np.kron(r2, r2)\n",
    "T = get_transposition(ndim)"
   ]
  },
  {
   "cell_type": "code",
   "execution_count": 14,
   "metadata": {},
   "outputs": [],
   "source": [
    "id = np.eye(len(a))\n",
    "inv = 3*id - R1 - R2 - T"
   ]
  },
  {
   "cell_type": "code",
   "execution_count": 15,
   "metadata": {},
   "outputs": [
    {
     "name": "stdout",
     "output_type": "stream",
     "text": [
      "Dimension:          9\n",
      "Rank of Nullspace:  2\n"
     ]
    }
   ],
   "source": [
    "# Consctruct nullspace\n",
    "u, s, vh = la.svd(inv, lapack_driver=\"gesdd\")\n",
    "rank = (s > 1e-12).sum()\n",
    "\n",
    "print(f\"Dimension:          {len(a)}\")\n",
    "print(f\"Rank of Nullspace:  {len(a) - rank}\")"
   ]
  },
  {
   "cell_type": "code",
   "execution_count": 16,
   "metadata": {},
   "outputs": [],
   "source": [
    "# Nullspace:\n",
    "S = vh[rank:].T\n",
    "# clean S\n",
    "for ii, jj in np.ndindex(S.shape):\n",
    "    if abs(S[ii, jj]) < 1e-10:\n",
    "        S[ii, jj] = 0\n",
    "Sp = S.T"
   ]
  },
  {
   "cell_type": "markdown",
   "metadata": {},
   "source": [
    "How do the projectors look like?"
   ]
  },
  {
   "cell_type": "code",
   "execution_count": 17,
   "metadata": {},
   "outputs": [
    {
     "name": "stdout",
     "output_type": "stream",
     "text": [
      "[[0.5 0.  0.  0.  0.5 0.  0.  0.  0. ]\n",
      " [0.  0.  0.  0.  0.  0.  0.  0.  0. ]\n",
      " [0.  0.  0.  0.  0.  0.  0.  0.  0. ]\n",
      " [0.  0.  0.  0.  0.  0.  0.  0.  0. ]\n",
      " [0.5 0.  0.  0.  0.5 0.  0.  0.  0. ]\n",
      " [0.  0.  0.  0.  0.  0.  0.  0.  0. ]\n",
      " [0.  0.  0.  0.  0.  0.  0.  0.  0. ]\n",
      " [0.  0.  0.  0.  0.  0.  0.  0.  0. ]\n",
      " [0.  0.  0.  0.  0.  0.  0.  0.  1. ]]\n",
      "[[1. 0.]\n",
      " [0. 1.]]\n"
     ]
    }
   ],
   "source": [
    "print(S@Sp)\n",
    "#print(Sp)\n",
    "#print(S@Sp)\n",
    "print(Sp@S)"
   ]
  },
  {
   "cell_type": "code",
   "execution_count": 18,
   "metadata": {},
   "outputs": [],
   "source": [
    "# Projector\n",
    "P = S@Sp"
   ]
  },
  {
   "cell_type": "code",
   "execution_count": 19,
   "metadata": {},
   "outputs": [],
   "source": [
    "# Symmetrize a\n",
    "aS = np.dot(P, a)"
   ]
  },
  {
   "cell_type": "code",
   "execution_count": 20,
   "metadata": {},
   "outputs": [],
   "source": [
    "# Restore shape\n",
    "As = aS.reshape(3,3)"
   ]
  },
  {
   "cell_type": "code",
   "execution_count": 21,
   "metadata": {},
   "outputs": [
    {
     "name": "stdout",
     "output_type": "stream",
     "text": [
      " | 0.5*a_00 + 0.5*a_11 ,  0                   ,  0                   |\n",
      " | 0                   ,  0.5*a_00 + 0.5*a_11 ,  0                   |\n",
      " | 0                   ,  0                   ,  1.0*a_22            |\n"
     ]
    }
   ],
   "source": [
    "pprint(As)"
   ]
  },
  {
   "cell_type": "code",
   "execution_count": null,
   "metadata": {},
   "outputs": [],
   "source": []
  }
 ],
 "metadata": {
  "kernelspec": {
   "display_name": "Python 3",
   "language": "python",
   "name": "python3"
  },
  "language_info": {
   "codemirror_mode": {
    "name": "ipython",
    "version": 3
   },
   "file_extension": ".py",
   "mimetype": "text/x-python",
   "name": "python",
   "nbconvert_exporter": "python",
   "pygments_lexer": "ipython3",
   "version": "3.7.3"
  }
 },
 "nbformat": 4,
 "nbformat_minor": 2
}
