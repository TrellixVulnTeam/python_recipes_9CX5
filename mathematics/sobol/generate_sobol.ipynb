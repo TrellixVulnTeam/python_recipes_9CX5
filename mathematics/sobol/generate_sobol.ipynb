{
 "cells": [
  {
   "cell_type": "code",
   "execution_count": 1,
   "metadata": {},
   "outputs": [],
   "source": [
    "import numpy as np\n",
    "import matplotlib.pyplot as plt\n",
    "from generate_sobol import QuasiRandomState, sample\n",
    "gsample = sample\n",
    "from sobol import sample, rand\n",
    "%matplotlib inline"
   ]
  },
  {
   "cell_type": "code",
   "execution_count": 2,
   "metadata": {},
   "outputs": [],
   "source": [
    "nsamples = 200\n",
    "dimensions = 2\n",
    "nmax = 5000"
   ]
  },
  {
   "cell_type": "code",
   "execution_count": 3,
   "metadata": {},
   "outputs": [
    {
     "name": "stdout",
     "output_type": "stream",
     "text": [
      "CPU times: user 18.3 ms, sys: 0 ns, total: 18.3 ms\n",
      "Wall time: 18 ms\n",
      "CPU times: user 922 µs, sys: 0 ns, total: 922 µs\n",
      "Wall time: 925 µs\n"
     ]
    }
   ],
   "source": [
    "%time qseq = sample(nmax, dimensions)\n",
    "%time _ = [el for el in qseq]"
   ]
  },
  {
   "cell_type": "code",
   "execution_count": 4,
   "metadata": {},
   "outputs": [],
   "source": [
    "rng = QuasiRandomState(30)"
   ]
  },
  {
   "cell_type": "code",
   "execution_count": 5,
   "metadata": {},
   "outputs": [
    {
     "data": {
      "text/plain": [
       "array([0.24511719, 0.99316406, 0.24316406, 0.63964844, 0.73144531,\n",
       "       0.47949219, 0.12207031, 0.65136719, 0.02636719, 0.23535156,\n",
       "       0.68847656, 0.68652344, 0.28417969, 0.08496094, 0.95410156,\n",
       "       0.47363281, 0.83496094, 0.29589844, 0.25097656, 0.41503906,\n",
       "       0.60253906, 0.71191406, 0.34667969, 0.02246094, 0.81542969,\n",
       "       0.20605469, 0.82714844, 0.50878906, 0.01464844, 0.60449219])"
      ]
     },
     "execution_count": 5,
     "metadata": {},
     "output_type": "execute_result"
    }
   ],
   "source": [
    "rng.rand(30)"
   ]
  },
  {
   "cell_type": "code",
   "execution_count": null,
   "metadata": {},
   "outputs": [],
   "source": []
  }
 ],
 "metadata": {
  "kernelspec": {
   "display_name": "Python 3",
   "language": "python",
   "name": "python3"
  },
  "language_info": {
   "codemirror_mode": {
    "name": "ipython",
    "version": 3
   },
   "file_extension": ".py",
   "mimetype": "text/x-python",
   "name": "python",
   "nbconvert_exporter": "python",
   "pygments_lexer": "ipython3",
   "version": "3.7.0"
  }
 },
 "nbformat": 4,
 "nbformat_minor": 2
}
