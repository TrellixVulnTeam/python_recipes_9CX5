{
 "cells": [
  {
   "cell_type": "code",
   "execution_count": 1,
   "metadata": {},
   "outputs": [],
   "source": [
    "import functools\n",
    "import multiprocessing\n",
    "from itertools import product\n",
    "\n",
    "import numpy as np\n",
    "import scipy.signal as sl"
   ]
  },
  {
   "cell_type": "markdown",
   "metadata": {},
   "source": [
    "Target:\n",
    "- get something of shape [Nt, Na, 3]\n",
    "- compute autocorrelation for each combination of (I, a), (J, b)\n",
    "- return as [Nt, Na, 3, Na, 3]"
   ]
  },
  {
   "cell_type": "code",
   "execution_count": 2,
   "metadata": {},
   "outputs": [
    {
     "data": {
      "text/plain": [
       "(4, [2, 3])"
      ]
     },
     "execution_count": 2,
     "metadata": {},
     "output_type": "execute_result"
    }
   ],
   "source": [
    "# arb. shaped array:\n",
    "Nt = 4\n",
    "Na = 2\n",
    "\n",
    "array = np.ones([Nt, Na, 3])\n",
    "Nt, *shape = array.shape\n",
    "Nt, shape"
   ]
  },
  {
   "cell_type": "code",
   "execution_count": 3,
   "metadata": {},
   "outputs": [
    {
     "data": {
      "text/plain": [
       "array([[[0., 1., 2.],\n",
       "        [1., 2., 3.]],\n",
       "\n",
       "       [[1., 2., 3.],\n",
       "        [2., 3., 4.]],\n",
       "\n",
       "       [[2., 3., 4.],\n",
       "        [3., 4., 5.]],\n",
       "\n",
       "       [[3., 4., 5.],\n",
       "        [4., 5., 6.]]])"
      ]
     },
     "execution_count": 3,
     "metadata": {},
     "output_type": "execute_result"
    }
   ],
   "source": [
    "# create mock data\n",
    "# fill some data\n",
    "for (t, I, a) in np.ndindex((Nt, *shape)):\n",
    "    array[t, I, a] = t + a + I\n",
    "\n",
    "array"
   ]
  },
  {
   "cell_type": "code",
   "execution_count": 4,
   "metadata": {},
   "outputs": [
    {
     "data": {
      "text/plain": [
       "((6, 4), array([[0., 1., 2., 3.],\n",
       "        [1., 2., 3., 4.],\n",
       "        [2., 3., 4., 5.],\n",
       "        [1., 2., 3., 4.],\n",
       "        [2., 3., 4., 5.],\n",
       "        [3., 4., 5., 6.]]))"
      ]
     },
     "execution_count": 4,
     "metadata": {},
     "output_type": "execute_result"
    }
   ],
   "source": [
    "# reshape to (X, Nt)\n",
    "data = array.reshape(Nt, -1).swapaxes(0, 1)\n",
    "\n",
    "data.shape, data"
   ]
  },
  {
   "cell_type": "code",
   "execution_count": 5,
   "metadata": {
    "scrolled": true
   },
   "outputs": [
    {
     "name": "stdout",
     "output_type": "stream",
     "text": [
      "[0. 1. 2. 3.]\n",
      "[1. 2. 3. 4.]\n",
      "[2. 3. 4. 5.]\n",
      "[1. 2. 3. 4.]\n",
      "[2. 3. 4. 5.]\n",
      "[3. 4. 5. 6.]\n",
      "(array([0., 1., 2., 3.]), array([0., 1., 2., 3.]))\n",
      "(array([0., 1., 2., 3.]), array([1., 2., 3., 4.]))\n",
      "(array([0., 1., 2., 3.]), array([2., 3., 4., 5.]))\n",
      "(array([1., 2., 3., 4.]), array([0., 1., 2., 3.]))\n",
      "(array([1., 2., 3., 4.]), array([1., 2., 3., 4.]))\n",
      "(array([1., 2., 3., 4.]), array([2., 3., 4., 5.]))\n",
      "(array([2., 3., 4., 5.]), array([0., 1., 2., 3.]))\n",
      "(array([2., 3., 4., 5.]), array([1., 2., 3., 4.]))\n",
      "(array([2., 3., 4., 5.]), array([2., 3., 4., 5.]))\n"
     ]
    }
   ],
   "source": [
    "# array returns row for row\n",
    "for x in data:\n",
    "    print(x)\n",
    "\n",
    "# product returns all combinations of rows\n",
    "for X in product(data[:3], data[:3]):\n",
    "    print(X)"
   ]
  },
  {
   "cell_type": "code",
   "execution_count": 6,
   "metadata": {},
   "outputs": [],
   "source": [
    "# apply correlate to each row\n",
    "def correlate(X, **kwargs):\n",
    "    Nt = len(X[0])\n",
    "    return sl.correlate(X[0], X[1], **kwargs)[Nt - 1 :]\n",
    "\n",
    "# correlate with `fft=True`\n",
    "def c(X):\n",
    "    return correlate(X, method='fft')"
   ]
  },
  {
   "cell_type": "code",
   "execution_count": 7,
   "metadata": {},
   "outputs": [
    {
     "data": {
      "text/plain": [
       "(4, 2, 3, 2, 3)"
      ]
     },
     "execution_count": 7,
     "metadata": {},
     "output_type": "execute_result"
    }
   ],
   "source": [
    "# reference:\n",
    "ref_result = np.zeros([Nt, *shape, *shape])\n",
    "for (I, a) in np.ndindex(*shape):\n",
    "    for (J, b) in np.ndindex(*shape):\n",
    "        X = (array[:, I, a], array[:, J, b])\n",
    "        ref_result[:, I, a, J, b] = c(X)\n",
    "\n",
    "ref_result.shape"
   ]
  },
  {
   "cell_type": "code",
   "execution_count": 8,
   "metadata": {},
   "outputs": [
    {
     "name": "stdout",
     "output_type": "stream",
     "text": [
      "CPU times: user 6.15 ms, sys: 0 ns, total: 6.15 ms\n",
      "Wall time: 5.5 ms\n"
     ]
    }
   ],
   "source": [
    "%%time\n",
    "result1 = np.zeros((data.shape[0]**2, data.shape[1]))\n",
    "\n",
    "for ii, X in enumerate(product(data, data)):\n",
    "    result1[ii] = c(X)"
   ]
  },
  {
   "cell_type": "code",
   "execution_count": 9,
   "metadata": {},
   "outputs": [
    {
     "name": "stdout",
     "output_type": "stream",
     "text": [
      "CPU times: user 11.6 ms, sys: 24.9 ms, total: 36.5 ms\n",
      "Wall time: 135 ms\n"
     ]
    }
   ],
   "source": [
    "%%time\n",
    "# parallelize\n",
    "with multiprocessing.Pool() as p:\n",
    "    result2 = np.array(p.map(c, product(data, data)))\n",
    "    \n",
    "# to see a speedup, one needs larger data"
   ]
  },
  {
   "cell_type": "code",
   "execution_count": 10,
   "metadata": {},
   "outputs": [
    {
     "data": {
      "text/plain": [
       "True"
      ]
     },
     "execution_count": 10,
     "metadata": {},
     "output_type": "execute_result"
    }
   ],
   "source": [
    "np.allclose(result1, result2)"
   ]
  },
  {
   "cell_type": "code",
   "execution_count": 11,
   "metadata": {},
   "outputs": [
    {
     "data": {
      "text/plain": [
       "(4, 2, 3, 2, 3)"
      ]
     },
     "execution_count": 11,
     "metadata": {},
     "output_type": "execute_result"
    }
   ],
   "source": [
    "# shape back\n",
    "result = np.moveaxis(result2.reshape((*shape, *shape, Nt)), -1, 0)\n",
    "result.shape"
   ]
  },
  {
   "cell_type": "code",
   "execution_count": 12,
   "metadata": {},
   "outputs": [
    {
     "data": {
      "text/plain": [
       "True"
      ]
     },
     "execution_count": 12,
     "metadata": {},
     "output_type": "execute_result"
    }
   ],
   "source": [
    "np.allclose(result, ref_result)"
   ]
  },
  {
   "cell_type": "code",
   "execution_count": null,
   "metadata": {},
   "outputs": [],
   "source": []
  }
 ],
 "metadata": {
  "kernelspec": {
   "display_name": "Python 3",
   "language": "python",
   "name": "python3"
  },
  "language_info": {
   "codemirror_mode": {
    "name": "ipython",
    "version": 3
   },
   "file_extension": ".py",
   "mimetype": "text/x-python",
   "name": "python",
   "nbconvert_exporter": "python",
   "pygments_lexer": "ipython3",
   "version": "3.7.3"
  }
 },
 "nbformat": 4,
 "nbformat_minor": 2
}
