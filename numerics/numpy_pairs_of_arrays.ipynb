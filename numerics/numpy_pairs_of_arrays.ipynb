{
 "cells": [
  {
   "cell_type": "code",
   "execution_count": 1,
   "metadata": {},
   "outputs": [],
   "source": [
    "from itertools import product\n",
    "import numpy as np"
   ]
  },
  {
   "cell_type": "code",
   "execution_count": 2,
   "metadata": {},
   "outputs": [
    {
     "data": {
      "text/plain": [
       "(array([[0, 0, 0],\n",
       "        [1, 0, 0],\n",
       "        [0, 2, 0],\n",
       "        [0, 0, 3]]),\n",
       " array([[0, 0, 0],\n",
       "        [2, 0, 0],\n",
       "        [0, 4, 0],\n",
       "        [0, 0, 6]]),\n",
       " (4, 3))"
      ]
     },
     "execution_count": 2,
     "metadata": {},
     "output_type": "execute_result"
    }
   ],
   "source": [
    "#  goal: take two arrays and return all pairs (i, j)\n",
    "\n",
    "a1 = np.array([\n",
    "    [0, 0, 0],\n",
    "    [1, 0, 0],\n",
    "    [0, 2, 0],\n",
    "    [0, 0, 3],\n",
    "])\n",
    "\n",
    "a2 = a1 * 2\n",
    "a1, a2, a1.shape"
   ]
  },
  {
   "cell_type": "code",
   "execution_count": 3,
   "metadata": {},
   "outputs": [
    {
     "data": {
      "text/plain": [
       "array([[[ 0,  0,  0],\n",
       "        [-2,  0,  0],\n",
       "        [ 0, -4,  0],\n",
       "        [ 0,  0, -6]],\n",
       "\n",
       "       [[ 1,  0,  0],\n",
       "        [-1,  0,  0],\n",
       "        [ 1, -4,  0],\n",
       "        [ 1,  0, -6]],\n",
       "\n",
       "       [[ 0,  2,  0],\n",
       "        [-2,  2,  0],\n",
       "        [ 0, -2,  0],\n",
       "        [ 0,  2, -6]],\n",
       "\n",
       "       [[ 0,  0,  3],\n",
       "        [-2,  0,  3],\n",
       "        [ 0, -4,  3],\n",
       "        [ 0,  0, -3]]])"
      ]
     },
     "execution_count": 3,
     "metadata": {},
     "output_type": "execute_result"
    }
   ],
   "source": [
    "np.array(list(product(a1, -a2))).sum(axis=1).reshape([4, 4, 3])"
   ]
  },
  {
   "cell_type": "code",
   "execution_count": null,
   "metadata": {},
   "outputs": [],
   "source": []
  }
 ],
 "metadata": {
  "kernelspec": {
   "display_name": "Python 3",
   "language": "python",
   "name": "python3"
  },
  "language_info": {
   "codemirror_mode": {
    "name": "ipython",
    "version": 3
   },
   "file_extension": ".py",
   "mimetype": "text/x-python",
   "name": "python",
   "nbconvert_exporter": "python",
   "pygments_lexer": "ipython3",
   "version": "3.8.1"
  }
 },
 "nbformat": 4,
 "nbformat_minor": 4
}
