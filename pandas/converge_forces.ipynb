{
 "cells": [
  {
   "cell_type": "code",
   "execution_count": 1,
   "metadata": {},
   "outputs": [],
   "source": [
    "from pathlib import Path\n",
    "import pandas as pd\n",
    "import numpy as np\n",
    "import matplotlib.pyplot as plt\n",
    "from ase.io import read\n",
    "%matplotlib inline"
   ]
  },
  {
   "cell_type": "code",
   "execution_count": 2,
   "metadata": {},
   "outputs": [],
   "source": [
    "def read_parameters_and_atoms(files):\n",
    "    \"\"\"return a list of tuples holding pairs of supercell and corresponding ase parameters\"\"\"\n",
    "    parameters_and_atoms = [(read(fil, 0, 'aims-output'), \n",
    "                             eval((fil.parent / 'parameters.ase').open().read())) \n",
    "                            for fil in files]\n",
    "    return parameters_and_atoms"
   ]
  },
  {
   "cell_type": "code",
   "execution_count": 3,
   "metadata": {},
   "outputs": [],
   "source": [
    "def create_dataframe(scells_and_params):\n",
    "    \"\"\"Create pandas.Dataframe for list of tuples of supercells and parameters\"\"\"\n",
    "    df = pd.DataFrame()\n",
    "    for (sc, p) in scells_and_params:\n",
    "        k_grid = [int(k) for k in p['k_grid'].split()]\n",
    "        df = df.append({\n",
    "            'n_atoms': len(sc),\n",
    "            'vol': sc.get_volume(),\n",
    "            'k_grid': k_grid,\n",
    "            'n_k': k_grid[0]*k_grid[1]*k_grid[2],\n",
    "            'e_tot': sc.get_total_energy() / len(sc),\n",
    "            'f_max': np.linalg.norm(sc.get_forces(), axis=1).max()\n",
    "        },\n",
    "        ignore_index=True)\n",
    "    return df"
   ]
  },
  {
   "cell_type": "code",
   "execution_count": 4,
   "metadata": {},
   "outputs": [],
   "source": [
    "files_wo_disp = Path('disp=0.00/').glob('**/*aims.out')\n",
    "supercells_wo_disp = read_parameters_and_atoms(files_wo_disp)"
   ]
  },
  {
   "cell_type": "code",
   "execution_count": 5,
   "metadata": {},
   "outputs": [],
   "source": [
    "files_w_disp = Path('disp=0.08/').glob('**/*aims.out')\n",
    "supercells_w_disp = read_parameters_and_atoms(files_w_disp)"
   ]
  },
  {
   "cell_type": "code",
   "execution_count": 6,
   "metadata": {},
   "outputs": [],
   "source": [
    "# create datasets for supercells with and without displacement\n",
    "df_w_disp = create_dataframe(supercells_w_disp)\n",
    "df_wo_disp = create_dataframe(supercells_wo_disp)"
   ]
  },
  {
   "cell_type": "code",
   "execution_count": 7,
   "metadata": {},
   "outputs": [
    {
     "data": {
      "text/html": [
       "<div>\n",
       "<style scoped>\n",
       "    .dataframe tbody tr th:only-of-type {\n",
       "        vertical-align: middle;\n",
       "    }\n",
       "\n",
       "    .dataframe tbody tr th {\n",
       "        vertical-align: top;\n",
       "    }\n",
       "\n",
       "    .dataframe thead th {\n",
       "        text-align: right;\n",
       "    }\n",
       "</style>\n",
       "<table border=\"1\" class=\"dataframe\">\n",
       "  <thead>\n",
       "    <tr style=\"text-align: right;\">\n",
       "      <th></th>\n",
       "      <th>e_tot</th>\n",
       "      <th>f_max</th>\n",
       "      <th>k_grid</th>\n",
       "      <th>n_atoms</th>\n",
       "      <th>n_k</th>\n",
       "      <th>vol</th>\n",
       "    </tr>\n",
       "  </thead>\n",
       "  <tbody>\n",
       "    <tr>\n",
       "      <th>0</th>\n",
       "      <td>-7886.863161</td>\n",
       "      <td>0.000068</td>\n",
       "      <td>[4, 4, 4]</td>\n",
       "      <td>2.0</td>\n",
       "      <td>64.0</td>\n",
       "      <td>40.484577</td>\n",
       "    </tr>\n",
       "    <tr>\n",
       "      <th>1</th>\n",
       "      <td>-7886.960596</td>\n",
       "      <td>0.000073</td>\n",
       "      <td>[2, 2, 2]</td>\n",
       "      <td>156.0</td>\n",
       "      <td>8.0</td>\n",
       "      <td>3157.796981</td>\n",
       "    </tr>\n",
       "    <tr>\n",
       "      <th>2</th>\n",
       "      <td>-7886.960596</td>\n",
       "      <td>0.000073</td>\n",
       "      <td>[2, 2, 2]</td>\n",
       "      <td>156.0</td>\n",
       "      <td>8.0</td>\n",
       "      <td>3157.796981</td>\n",
       "    </tr>\n",
       "    <tr>\n",
       "      <th>3</th>\n",
       "      <td>-7886.960521</td>\n",
       "      <td>0.000246</td>\n",
       "      <td>[2, 2, 2]</td>\n",
       "      <td>180.0</td>\n",
       "      <td>8.0</td>\n",
       "      <td>3643.611902</td>\n",
       "    </tr>\n",
       "    <tr>\n",
       "      <th>4</th>\n",
       "      <td>-7886.960551</td>\n",
       "      <td>0.000073</td>\n",
       "      <td>[2, 2, 2]</td>\n",
       "      <td>216.0</td>\n",
       "      <td>8.0</td>\n",
       "      <td>4372.334282</td>\n",
       "    </tr>\n",
       "  </tbody>\n",
       "</table>\n",
       "</div>"
      ],
      "text/plain": [
       "         e_tot     f_max     k_grid  n_atoms   n_k          vol\n",
       "0 -7886.863161  0.000068  [4, 4, 4]      2.0  64.0    40.484577\n",
       "1 -7886.960596  0.000073  [2, 2, 2]    156.0   8.0  3157.796981\n",
       "2 -7886.960596  0.000073  [2, 2, 2]    156.0   8.0  3157.796981\n",
       "3 -7886.960521  0.000246  [2, 2, 2]    180.0   8.0  3643.611902\n",
       "4 -7886.960551  0.000073  [2, 2, 2]    216.0   8.0  4372.334282"
      ]
     },
     "execution_count": 7,
     "metadata": {},
     "output_type": "execute_result"
    }
   ],
   "source": [
    "# example\n",
    "df_wo_disp.head()"
   ]
  },
  {
   "cell_type": "code",
   "execution_count": 8,
   "metadata": {},
   "outputs": [],
   "source": [
    "# add kpoint density as a column\n",
    "for df in (df_w_disp, df_wo_disp):\n",
    "    df['k_density'] = df.n_k * df.vol / 100"
   ]
  },
  {
   "cell_type": "markdown",
   "metadata": {},
   "source": [
    "### k point convergence"
   ]
  },
  {
   "cell_type": "code",
   "execution_count": 9,
   "metadata": {},
   "outputs": [
    {
     "data": {
      "text/html": [
       "<div>\n",
       "<style scoped>\n",
       "    .dataframe tbody tr th:only-of-type {\n",
       "        vertical-align: middle;\n",
       "    }\n",
       "\n",
       "    .dataframe tbody tr th {\n",
       "        vertical-align: top;\n",
       "    }\n",
       "\n",
       "    .dataframe thead th {\n",
       "        text-align: right;\n",
       "    }\n",
       "</style>\n",
       "<table border=\"1\" class=\"dataframe\">\n",
       "  <thead>\n",
       "    <tr style=\"text-align: right;\">\n",
       "      <th></th>\n",
       "      <th>e_tot</th>\n",
       "      <th>f_max</th>\n",
       "      <th>k_grid</th>\n",
       "      <th>n_atoms</th>\n",
       "      <th>n_k</th>\n",
       "      <th>vol</th>\n",
       "      <th>k_density</th>\n",
       "    </tr>\n",
       "  </thead>\n",
       "  <tbody>\n",
       "    <tr>\n",
       "      <th>14</th>\n",
       "      <td>47.798663</td>\n",
       "      <td>0.000076</td>\n",
       "      <td>[2, 2, 2]</td>\n",
       "      <td>12.0</td>\n",
       "      <td>8.0</td>\n",
       "      <td>242.90746</td>\n",
       "      <td>19.432597</td>\n",
       "    </tr>\n",
       "    <tr>\n",
       "      <th>119</th>\n",
       "      <td>0.228149</td>\n",
       "      <td>0.000158</td>\n",
       "      <td>[5, 3, 5]</td>\n",
       "      <td>12.0</td>\n",
       "      <td>75.0</td>\n",
       "      <td>242.90746</td>\n",
       "      <td>182.180595</td>\n",
       "    </tr>\n",
       "    <tr>\n",
       "      <th>56</th>\n",
       "      <td>0.056470</td>\n",
       "      <td>0.000059</td>\n",
       "      <td>[6, 4, 6]</td>\n",
       "      <td>12.0</td>\n",
       "      <td>144.0</td>\n",
       "      <td>242.90746</td>\n",
       "      <td>349.786743</td>\n",
       "    </tr>\n",
       "    <tr>\n",
       "      <th>98</th>\n",
       "      <td>0.012627</td>\n",
       "      <td>0.000077</td>\n",
       "      <td>[7, 5, 7]</td>\n",
       "      <td>12.0</td>\n",
       "      <td>245.0</td>\n",
       "      <td>242.90746</td>\n",
       "      <td>595.123277</td>\n",
       "    </tr>\n",
       "    <tr>\n",
       "      <th>35</th>\n",
       "      <td>0.003045</td>\n",
       "      <td>0.000073</td>\n",
       "      <td>[8, 6, 8]</td>\n",
       "      <td>12.0</td>\n",
       "      <td>384.0</td>\n",
       "      <td>242.90746</td>\n",
       "      <td>932.764647</td>\n",
       "    </tr>\n",
       "  </tbody>\n",
       "</table>\n",
       "</div>"
      ],
      "text/plain": [
       "         e_tot     f_max     k_grid  n_atoms    n_k        vol   k_density\n",
       "14   47.798663  0.000076  [2, 2, 2]     12.0    8.0  242.90746   19.432597\n",
       "119   0.228149  0.000158  [5, 3, 5]     12.0   75.0  242.90746  182.180595\n",
       "56    0.056470  0.000059  [6, 4, 6]     12.0  144.0  242.90746  349.786743\n",
       "98    0.012627  0.000077  [7, 5, 7]     12.0  245.0  242.90746  595.123277\n",
       "35    0.003045  0.000073  [8, 6, 8]     12.0  384.0  242.90746  932.764647"
      ]
     },
     "execution_count": 9,
     "metadata": {},
     "output_type": "execute_result"
    }
   ],
   "source": [
    "view = df_wo_disp.loc[df_wo_disp.n_atoms == 12].sort_values('n_k')\n",
    "view.drop_duplicates(subset='n_k', inplace=True)\n",
    "# energy difference in mev\n",
    "view.e_tot = (view.e_tot - df_wo_disp.e_tot.min()) * 1000\n",
    "view.head()"
   ]
  },
  {
   "cell_type": "code",
   "execution_count": 10,
   "metadata": {},
   "outputs": [
    {
     "data": {
      "text/plain": [
       "<matplotlib.axes._subplots.AxesSubplot at 0x14c3e50bca20>"
      ]
     },
     "execution_count": 10,
     "metadata": {},
     "output_type": "execute_result"
    },
    {
     "data": {
      "image/png": "[encoded data removed]",
      "text/plain": [
       "<Figure size 432x288 with 1 Axes>"
      ]
     },
     "metadata": {
      "needs_background": "light"
     },
     "output_type": "display_data"
    }
   ],
   "source": [
    "view.plot(x='n_k', y='e_tot', logy=True, marker='*')"
   ]
  },
  {
   "cell_type": "markdown",
   "metadata": {},
   "source": [
    "# Force convergence"
   ]
  },
  {
   "cell_type": "code",
   "execution_count": 11,
   "metadata": {},
   "outputs": [
    {
     "data": {
      "text/html": [
       "<div>\n",
       "<style scoped>\n",
       "    .dataframe tbody tr th:only-of-type {\n",
       "        vertical-align: middle;\n",
       "    }\n",
       "\n",
       "    .dataframe tbody tr th {\n",
       "        vertical-align: top;\n",
       "    }\n",
       "\n",
       "    .dataframe thead th {\n",
       "        text-align: right;\n",
       "    }\n",
       "</style>\n",
       "<table border=\"1\" class=\"dataframe\">\n",
       "  <thead>\n",
       "    <tr style=\"text-align: right;\">\n",
       "      <th></th>\n",
       "      <th>e_tot</th>\n",
       "      <th>f_max</th>\n",
       "      <th>k_grid</th>\n",
       "      <th>n_atoms</th>\n",
       "      <th>n_k</th>\n",
       "      <th>vol</th>\n",
       "      <th>k_density</th>\n",
       "    </tr>\n",
       "  </thead>\n",
       "  <tbody>\n",
       "    <tr>\n",
       "      <th>0</th>\n",
       "      <td>-7886.841126</td>\n",
       "      <td>1.079224</td>\n",
       "      <td>[4, 4, 4]</td>\n",
       "      <td>2.0</td>\n",
       "      <td>64.0</td>\n",
       "      <td>40.484577</td>\n",
       "      <td>25.910129</td>\n",
       "    </tr>\n",
       "    <tr>\n",
       "      <th>1</th>\n",
       "      <td>-7886.960335</td>\n",
       "      <td>1.047281</td>\n",
       "      <td>[2, 2, 2]</td>\n",
       "      <td>156.0</td>\n",
       "      <td>8.0</td>\n",
       "      <td>3157.796981</td>\n",
       "      <td>252.623759</td>\n",
       "    </tr>\n",
       "    <tr>\n",
       "      <th>2</th>\n",
       "      <td>-7886.960335</td>\n",
       "      <td>1.047281</td>\n",
       "      <td>[2, 2, 2]</td>\n",
       "      <td>156.0</td>\n",
       "      <td>8.0</td>\n",
       "      <td>3157.796981</td>\n",
       "      <td>252.623759</td>\n",
       "    </tr>\n",
       "    <tr>\n",
       "      <th>3</th>\n",
       "      <td>-7886.960296</td>\n",
       "      <td>1.047740</td>\n",
       "      <td>[2, 2, 2]</td>\n",
       "      <td>180.0</td>\n",
       "      <td>8.0</td>\n",
       "      <td>3643.611902</td>\n",
       "      <td>291.488952</td>\n",
       "    </tr>\n",
       "    <tr>\n",
       "      <th>4</th>\n",
       "      <td>-7886.960362</td>\n",
       "      <td>1.047695</td>\n",
       "      <td>[2, 2, 2]</td>\n",
       "      <td>216.0</td>\n",
       "      <td>8.0</td>\n",
       "      <td>4372.334282</td>\n",
       "      <td>349.786743</td>\n",
       "    </tr>\n",
       "  </tbody>\n",
       "</table>\n",
       "</div>"
      ],
      "text/plain": [
       "         e_tot     f_max     k_grid  n_atoms   n_k          vol   k_density\n",
       "0 -7886.841126  1.079224  [4, 4, 4]      2.0  64.0    40.484577   25.910129\n",
       "1 -7886.960335  1.047281  [2, 2, 2]    156.0   8.0  3157.796981  252.623759\n",
       "2 -7886.960335  1.047281  [2, 2, 2]    156.0   8.0  3157.796981  252.623759\n",
       "3 -7886.960296  1.047740  [2, 2, 2]    180.0   8.0  3643.611902  291.488952\n",
       "4 -7886.960362  1.047695  [2, 2, 2]    216.0   8.0  4372.334282  349.786743"
      ]
     },
     "execution_count": 11,
     "metadata": {},
     "output_type": "execute_result"
    }
   ],
   "source": [
    "df_w_disp.head()"
   ]
  },
  {
   "cell_type": "markdown",
   "metadata": {},
   "source": [
    "## Force convergence with system size"
   ]
  },
  {
   "cell_type": "code",
   "execution_count": 12,
   "metadata": {},
   "outputs": [
    {
     "data": {
      "text/html": [
       "<div>\n",
       "<style scoped>\n",
       "    .dataframe tbody tr th:only-of-type {\n",
       "        vertical-align: middle;\n",
       "    }\n",
       "\n",
       "    .dataframe tbody tr th {\n",
       "        vertical-align: top;\n",
       "    }\n",
       "\n",
       "    .dataframe thead th {\n",
       "        text-align: right;\n",
       "    }\n",
       "</style>\n",
       "<table border=\"1\" class=\"dataframe\">\n",
       "  <thead>\n",
       "    <tr style=\"text-align: right;\">\n",
       "      <th></th>\n",
       "      <th>e_tot</th>\n",
       "      <th>f_max</th>\n",
       "      <th>k_grid</th>\n",
       "      <th>n_atoms</th>\n",
       "      <th>n_k</th>\n",
       "      <th>vol</th>\n",
       "      <th>k_density</th>\n",
       "    </tr>\n",
       "  </thead>\n",
       "  <tbody>\n",
       "    <tr>\n",
       "      <th>42</th>\n",
       "      <td>-7886.939281</td>\n",
       "      <td>25.488494</td>\n",
       "      <td>[10, 8, 10]</td>\n",
       "      <td>2.0</td>\n",
       "      <td>800.0</td>\n",
       "      <td>40.484577</td>\n",
       "      <td>323.876613</td>\n",
       "    </tr>\n",
       "    <tr>\n",
       "      <th>56</th>\n",
       "      <td>-7886.957214</td>\n",
       "      <td>2.677833</td>\n",
       "      <td>[6, 4, 6]</td>\n",
       "      <td>12.0</td>\n",
       "      <td>144.0</td>\n",
       "      <td>242.907460</td>\n",
       "      <td>349.786743</td>\n",
       "    </tr>\n",
       "    <tr>\n",
       "      <th>20</th>\n",
       "      <td>-7886.950750</td>\n",
       "      <td>-3.524414</td>\n",
       "      <td>[2, 2, 2]</td>\n",
       "      <td>20.0</td>\n",
       "      <td>8.0</td>\n",
       "      <td>404.845767</td>\n",
       "      <td>32.387661</td>\n",
       "    </tr>\n",
       "    <tr>\n",
       "      <th>8</th>\n",
       "      <td>-7886.955851</td>\n",
       "      <td>1.993534</td>\n",
       "      <td>[2, 2, 2]</td>\n",
       "      <td>36.0</td>\n",
       "      <td>8.0</td>\n",
       "      <td>728.722380</td>\n",
       "      <td>58.297790</td>\n",
       "    </tr>\n",
       "    <tr>\n",
       "      <th>7</th>\n",
       "      <td>-7886.956130</td>\n",
       "      <td>3.067902</td>\n",
       "      <td>[2, 2, 2]</td>\n",
       "      <td>48.0</td>\n",
       "      <td>8.0</td>\n",
       "      <td>971.629840</td>\n",
       "      <td>77.730387</td>\n",
       "    </tr>\n",
       "  </tbody>\n",
       "</table>\n",
       "</div>"
      ],
      "text/plain": [
       "          e_tot      f_max       k_grid  n_atoms    n_k         vol  \\\n",
       "42 -7886.939281  25.488494  [10, 8, 10]      2.0  800.0   40.484577   \n",
       "56 -7886.957214   2.677833    [6, 4, 6]     12.0  144.0  242.907460   \n",
       "20 -7886.950750  -3.524414    [2, 2, 2]     20.0    8.0  404.845767   \n",
       "8  -7886.955851   1.993534    [2, 2, 2]     36.0    8.0  728.722380   \n",
       "7  -7886.956130   3.067902    [2, 2, 2]     48.0    8.0  971.629840   \n",
       "\n",
       "     k_density  \n",
       "42  323.876613  \n",
       "56  349.786743  \n",
       "20   32.387661  \n",
       "8    58.297790  \n",
       "7    77.730387  "
      ]
     },
     "execution_count": 12,
     "metadata": {},
     "output_type": "execute_result"
    }
   ],
   "source": [
    "view = df_w_disp.loc[df_w_disp.k_density > 30].sort_values(['n_atoms', 'k_density'])\n",
    "view.drop_duplicates(subset='n_atoms', keep='first', inplace=True)\n",
    "view.f_max = (view.f_max - view.iloc[-1].f_max) * 1000 # meV/AA\n",
    "view.head()"
   ]
  },
  {
   "cell_type": "code",
   "execution_count": 13,
   "metadata": {},
   "outputs": [
    {
     "data": {
      "text/plain": [
       "<matplotlib.lines.Line2D at 0x14c3e3c11f98>"
      ]
     },
     "execution_count": 13,
     "metadata": {},
     "output_type": "execute_result"
    },
    {
     "data": {
      "image/png": "[encoded data removed]",
      "text/plain": [
       "<Figure size 432x288 with 1 Axes>"
      ]
     },
     "metadata": {
      "needs_background": "light"
     },
     "output_type": "display_data"
    }
   ],
   "source": [
    "view.plot(x='n_atoms', y='f_max', marker='*')\n",
    "plt.ylim([-2, 5])\n",
    "plt.axhline(0)"
   ]
  },
  {
   "cell_type": "code",
   "execution_count": null,
   "metadata": {},
   "outputs": [],
   "source": []
  }
 ],
 "metadata": {
  "kernelspec": {
   "display_name": "Python 3",
   "language": "python",
   "name": "python3"
  },
  "language_info": {
   "codemirror_mode": {
    "name": "ipython",
    "version": 3
   },
   "file_extension": ".py",
   "mimetype": "text/x-python",
   "name": "python",
   "nbconvert_exporter": "python",
   "pygments_lexer": "ipython3",
   "version": "3.7.0"
  }
 },
 "nbformat": 4,
 "nbformat_minor": 2
}
