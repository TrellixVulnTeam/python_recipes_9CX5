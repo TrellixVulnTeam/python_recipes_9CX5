{
 "cells": [
  {
   "cell_type": "code",
   "execution_count": 1,
   "metadata": {},
   "outputs": [],
   "source": [
    "import numpy as np\n",
    "import xarray as xr\n",
    "\n",
    "from hilde.trajectory import reader\n",
    "\n",
    "%matplotlib inline"
   ]
  },
  {
   "cell_type": "code",
   "execution_count": 2,
   "metadata": {},
   "outputs": [
    {
     "name": "stdout",
     "output_type": "stream",
     "text": [
      "[trajectory]   Parse trajectory\n",
      "[son] read file:  trajectory.son.bz2\n",
      "[trajectory]   .. done in 0.371s|||||||||||||||||||||||  1001/1001\n"
     ]
    }
   ],
   "source": [
    "trajectory = reader('trajectory.son.bz2')\n",
    "traj = trajectory"
   ]
  },
  {
   "cell_type": "code",
   "execution_count": 3,
   "metadata": {},
   "outputs": [],
   "source": [
    "times = traj.times\n",
    "\n",
    "positions = np.array([a.get_positions() for a in trajectory])\n",
    "\n",
    "velocities = np.array([a.get_velocities() for a in trajectory])\n",
    "\n",
    "forces = np.array([a.get_forces() for a in trajectory])\n",
    "\n",
    "e_kin = np.array([a.get_kinetic_energy() for a in trajectory])\n",
    "\n",
    "temperatures = np.array([a.get_temperature() for a in trajectory])\n",
    "\n",
    "symbols = traj[0].get_chemical_symbols()\n",
    "\n",
    "masses = traj[0].get_masses()\n",
    "\n",
    "ref_positions = traj[0].get_positions()"
   ]
  },
  {
   "cell_type": "code",
   "execution_count": 4,
   "metadata": {},
   "outputs": [],
   "source": [
    "vec_index = ['time', 'atom', 'i']\n",
    "scalar_index = 'time'\n",
    "\n",
    "DS = xr.Dataset({\n",
    "    'positions': (vec_index, positions),\n",
    "    'velocities': (vec_index, velocities),\n",
    "    'forces': (vec_index, forces),\n",
    "    'kinetic energy': (scalar_index, e_kin),\n",
    "    'temperature': (scalar_index, temperatures),\n",
    "    },\n",
    "    coords={'time': times},\n",
    "    attrs={'symbols': symbols, 'masses': masses.tolist(), 'reference positions': ref_positions.flatten().tolist()})"
   ]
  },
  {
   "cell_type": "code",
   "execution_count": 5,
   "metadata": {},
   "outputs": [
    {
     "data": {
      "text/plain": [
       "list"
      ]
     },
     "execution_count": 5,
     "metadata": {},
     "output_type": "execute_result"
    }
   ],
   "source": [
    "type(masses.tolist())"
   ]
  },
  {
   "cell_type": "code",
   "execution_count": 6,
   "metadata": {},
   "outputs": [
    {
     "data": {
      "text/plain": [
       "<xarray.Dataset>\n",
       "Dimensions:         (atom: 8, i: 3, time: 1001)\n",
       "Coordinates:\n",
       "  * time            (time) float64 0.0 5.0 10.0 ... 4.99e+03 4.995e+03 5e+03\n",
       "Dimensions without coordinates: atom, i\n",
       "Data variables:\n",
       "    positions       (time, atom, i) float64 0.0 0.0 0.0 ... 4.043 4.045 1.352\n",
       "    velocities      (time, atom, i) float64 0.004332 -0.02823 ... -0.004992\n",
       "    forces          (time, atom, i) float64 -0.0 -0.0 -0.0 ... 0.3374 0.08589\n",
       "    kinetic energy  (time) float64 0.3102 0.2725 0.1836 ... 0.1225 0.1885 0.2445\n",
       "    temperature     (time) float64 300.0 263.5 177.6 95.84 ... 118.4 182.3 236.4\n",
       "Attributes:\n",
       "    symbols:              ['Si', 'Si', 'Si', 'Si', 'Si', 'Si', 'Si', 'Si']\n",
       "    masses:               [28.085, 28.085, 28.085, 28.085, 28.085, 28.085, 28...\n",
       "    reference positions:  [0.0, 0.0, 0.0, 0.0, 2.71303376291, 2.71303376291, ..."
      ]
     },
     "execution_count": 6,
     "metadata": {},
     "output_type": "execute_result"
    }
   ],
   "source": [
    "DS"
   ]
  },
  {
   "cell_type": "markdown",
   "metadata": {},
   "source": [
    "### Problem: global attrs cannot be written to netCDF files"
   ]
  },
  {
   "cell_type": "code",
   "execution_count": 7,
   "metadata": {},
   "outputs": [],
   "source": [
    "try:\n",
    "    DS.to_netcdf('test.nc')\n",
    "except ValueError as error:\n",
    "    print('netcdf complains')"
   ]
  },
  {
   "cell_type": "markdown",
   "metadata": {},
   "source": [
    "### Solution: Save attrs to each DataArray within Dataset"
   ]
  },
  {
   "cell_type": "raw",
   "metadata": {},
   "source": [
    "attrs = DS.attrs\n",
    "for key in DS:\n",
    "    DS[key].attrs = attrs\n",
    "DS.attrs = {}"
   ]
  },
  {
   "cell_type": "raw",
   "metadata": {},
   "source": [
    "DS.positions.attrs['reference positions']"
   ]
  },
  {
   "cell_type": "code",
   "execution_count": 8,
   "metadata": {},
   "outputs": [],
   "source": [
    "das = {}\n",
    "for key in DS:\n",
    "    da = DS[key]\n",
    "    da.attrs = DS.attrs\n",
    "    das[key] = da\n",
    "\n",
    "new_DS = xr.Dataset(das)"
   ]
  },
  {
   "cell_type": "code",
   "execution_count": 9,
   "metadata": {},
   "outputs": [],
   "source": [
    "new_DS.to_netcdf('test.nc')"
   ]
  },
  {
   "cell_type": "code",
   "execution_count": 10,
   "metadata": {},
   "outputs": [],
   "source": [
    "read_DS = xr.load_dataset('test.nc')"
   ]
  },
  {
   "cell_type": "code",
   "execution_count": 11,
   "metadata": {},
   "outputs": [
    {
     "data": {
      "text/plain": [
       "OrderedDict()"
      ]
     },
     "execution_count": 11,
     "metadata": {},
     "output_type": "execute_result"
    }
   ],
   "source": [
    "read_DS.attrs"
   ]
  },
  {
   "cell_type": "code",
   "execution_count": 12,
   "metadata": {},
   "outputs": [
    {
     "data": {
      "text/plain": [
       "OrderedDict([('symbols', ['Si', 'Si', 'Si', 'Si', 'Si', 'Si', 'Si', 'Si']),\n",
       "             ('masses',\n",
       "              array([28.085, 28.085, 28.085, 28.085, 28.085, 28.085, 28.085, 28.085])),\n",
       "             ('reference positions',\n",
       "              array([0.        , 0.        , 0.        , 0.        , 2.71303376,\n",
       "                     2.71303376, 2.71303376, 0.        , 2.71303376, 2.71303376,\n",
       "                     2.71303376, 0.        , 1.35651688, 1.35651688, 1.35651688,\n",
       "                     1.35651688, 4.06955064, 4.06955064, 4.06955064, 1.35651688,\n",
       "                     4.06955064, 4.06955064, 4.06955064, 1.35651688]))])"
      ]
     },
     "execution_count": 12,
     "metadata": {},
     "output_type": "execute_result"
    }
   ],
   "source": [
    "read_DS.positions.attrs"
   ]
  },
  {
   "cell_type": "code",
   "execution_count": null,
   "metadata": {},
   "outputs": [],
   "source": []
  }
 ],
 "metadata": {
  "kernelspec": {
   "display_name": "Python 3",
   "language": "python",
   "name": "python3"
  },
  "language_info": {
   "codemirror_mode": {
    "name": "ipython",
    "version": 3
   },
   "file_extension": ".py",
   "mimetype": "text/x-python",
   "name": "python",
   "nbconvert_exporter": "python",
   "pygments_lexer": "ipython3",
   "version": "3.7.3"
  }
 },
 "nbformat": 4,
 "nbformat_minor": 2
}
