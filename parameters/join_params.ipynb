{
 "cells": [
  {
   "cell_type": "code",
   "execution_count": 3,
   "metadata": {},
   "outputs": [],
   "source": [
    "from params import _default_params, custom_params, params\n",
    "from pprint import pprint"
   ]
  },
  {
   "cell_type": "markdown",
   "metadata": {},
   "source": [
    "### Default parameters"
   ]
  },
  {
   "cell_type": "code",
   "execution_count": 5,
   "metadata": {},
   "outputs": [
    {
     "name": "stdout",
     "output_type": "stream",
     "text": [
      "Default params:\n",
      "{'distance': 0.01,\n",
      " 'is_symmetry': True,\n",
      " 'q_mesh': [35, 35, 35],\n",
      " 'supercell_matrix': [[1, 0, 0], [0, 1, 0], [0, 0, 1]],\n",
      " 'symprec': 1e-05}\n"
     ]
    }
   ],
   "source": [
    "pprint(_default_params)"
   ]
  },
  {
   "cell_type": "markdown",
   "metadata": {},
   "source": [
    "### Custom parameters"
   ]
  },
  {
   "cell_type": "code",
   "execution_count": 6,
   "metadata": {},
   "outputs": [
    {
     "name": "stdout",
     "output_type": "stream",
     "text": [
      "Custom params:\n",
      "{'distance': 0.02, 'supercell_matrix': [[2, 0, 0], [0, 2, 0], [0, 0, 2]]}\n"
     ]
    }
   ],
   "source": [
    "pprint(custom_params)"
   ]
  },
  {
   "cell_type": "markdown",
   "metadata": {},
   "source": [
    "### Joined parameters"
   ]
  },
  {
   "cell_type": "code",
   "execution_count": 9,
   "metadata": {},
   "outputs": [
    {
     "name": "stdout",
     "output_type": "stream",
     "text": [
      "{'distance': 0.02,\n",
      " 'is_symmetry': True,\n",
      " 'q_mesh': [35, 35, 35],\n",
      " 'supercell_matrix': [[2, 0, 0], [0, 2, 0], [0, 0, 2]],\n",
      " 'symprec': 1e-05}\n"
     ]
    }
   ],
   "source": [
    "joined_params = {**_default_params, **custom_params}\n",
    "pprint(joined_params)"
   ]
  },
  {
   "cell_type": "markdown",
   "metadata": {},
   "source": [
    "### Joined parameters (from module)\n",
    "This can already be done in the parameters module"
   ]
  },
  {
   "cell_type": "code",
   "execution_count": 8,
   "metadata": {},
   "outputs": [
    {
     "name": "stdout",
     "output_type": "stream",
     "text": [
      "True\n"
     ]
    }
   ],
   "source": [
    "print(joined_params == params)"
   ]
  },
  {
   "cell_type": "code",
   "execution_count": null,
   "metadata": {},
   "outputs": [],
   "source": []
  }
 ],
 "metadata": {
  "kernelspec": {
   "display_name": "Python 3",
   "language": "python",
   "name": "python3"
  },
  "language_info": {
   "codemirror_mode": {
    "name": "ipython",
    "version": 3
   },
   "file_extension": ".py",
   "mimetype": "text/x-python",
   "name": "python",
   "nbconvert_exporter": "python",
   "pygments_lexer": "ipython3",
   "version": "3.6.6"
  }
 },
 "nbformat": 4,
 "nbformat_minor": 2
}
