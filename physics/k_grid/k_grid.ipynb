{
 "cells": [
  {
   "cell_type": "code",
   "execution_count": 1,
   "metadata": {},
   "outputs": [],
   "source": [
    "from ase.io import read\n",
    "from ase.calculators.calculator import kptdensity2monkhorstpack"
   ]
  },
  {
   "cell_type": "code",
   "execution_count": 2,
   "metadata": {},
   "outputs": [],
   "source": [
    "si = read('si.in', 0, 'aims')\n",
    "gao = read('gao.in', 0, 'aims')\n",
    "gan = read('gan.in', 0, 'aims')\n",
    "sn = read('sesn.prim', 0, 'aims')\n",
    "materials = {\n",
    "    'si': si,\n",
    "    'gan': gan,\n",
    "    'sn': sn,\n",
    "    'gao': gao\n",
    "}"
   ]
  },
  {
   "cell_type": "code",
   "execution_count": 3,
   "metadata": {
    "scrolled": true
   },
   "outputs": [
    {
     "name": "stdout",
     "output_type": "stream",
     "text": [
      "Help on function kptdensity2monkhorstpack in module ase.calculators.calculator:\n",
      "\n",
      "kptdensity2monkhorstpack(atoms, kptdensity=3.5, even=True)\n",
      "    Convert k-point density to Monkhorst-Pack grid size.\n",
      "    \n",
      "    atoms: Atoms object\n",
      "        Contains unit cell and information about boundary conditions.\n",
      "    kptdensity: float\n",
      "        Required k-point density.  Default value is 3.5 point per Ang^-1.\n",
      "    even: bool\n",
      "        Round up to even numbers.\n",
      "\n"
     ]
    }
   ],
   "source": [
    "help(kptdensity2monkhorstpack)"
   ]
  },
  {
   "cell_type": "markdown",
   "metadata": {},
   "source": [
    "## Compare Materials"
   ]
  },
  {
   "cell_type": "code",
   "execution_count": 4,
   "metadata": {},
   "outputs": [
    {
     "name": "stdout",
     "output_type": "stream",
     "text": [
      "si  :  [8 8 8]\n",
      "gan :  [8 8 6]\n",
      "sn  :  [6 6 2]\n",
      "gao :  [8 8 4]\n"
     ]
    }
   ],
   "source": [
    "func = kptdensity2monkhorstpack\n",
    "for name, atoms in materials.items():\n",
    "    print(f'{name:4s}: ', func(atoms))"
   ]
  },
  {
   "cell_type": "markdown",
   "metadata": {},
   "source": [
    "### Run for several densities"
   ]
  },
  {
   "cell_type": "code",
   "execution_count": 5,
   "metadata": {},
   "outputs": [
    {
     "name": "stdout",
     "output_type": "stream",
     "text": [
      "Si\n",
      "   1:  [4 4 4]\n",
      "   2:  [6 6 6]\n",
      "   3:  [8 8 8]\n",
      "   4:  [10 10 10]\n",
      "   5:  [12 12 12]\n",
      "   6:  [14 14 14]\n",
      "   7:  [16 16 16]\n",
      "   8:  [18 18 18]\n",
      "   9:  [20 20 20]\n",
      "GaN\n",
      "   1:  [4 4 2]\n",
      "   2:  [6 6 4]\n",
      "   3:  [8 8 4]\n",
      "   4:  [10 10  6]\n",
      "   5:  [12 12  8]\n",
      "   6:  [14 14  8]\n",
      "   7:  [16 16 10]\n",
      "   8:  [20 20 10]\n",
      "   9:  [22 22 12]\n",
      "GaN -- uneven allowed\n",
      "   1:  [3 3 2]\n",
      "   2:  [5 5 3]\n",
      "   3:  [7 7 4]\n",
      "   4:  [10 10  5]\n",
      "   5:  [12 12  7]\n",
      "   6:  [14 14  8]\n",
      "   7:  [16 16  9]\n",
      "   8:  [19 19 10]\n",
      "   9:  [21 21 11]\n"
     ]
    }
   ],
   "source": [
    "print('Si')\n",
    "for ii in range(1, 10):\n",
    "    print(f'{ii:4d}: ', func(si, kptdensity=ii))\n",
    "    \n",
    "print('GaN')\n",
    "for ii in range(1, 10):\n",
    "    print(f'{ii:4d}: ', func(gan, kptdensity=ii))\n",
    "    \n",
    "print('GaN -- uneven allowed')\n",
    "for ii in range(1, 10):\n",
    "    print(f'{ii:4d}: ', func(gan, kptdensity=ii, even=False))"
   ]
  },
  {
   "cell_type": "code",
   "execution_count": null,
   "metadata": {},
   "outputs": [],
   "source": []
  }
 ],
 "metadata": {
  "kernelspec": {
   "display_name": "Python 3",
   "language": "python",
   "name": "python3"
  },
  "language_info": {
   "codemirror_mode": {
    "name": "ipython",
    "version": 3
   },
   "file_extension": ".py",
   "mimetype": "text/x-python",
   "name": "python",
   "nbconvert_exporter": "python",
   "pygments_lexer": "ipython3",
   "version": "3.6.6"
  }
 },
 "nbformat": 4,
 "nbformat_minor": 2
}
