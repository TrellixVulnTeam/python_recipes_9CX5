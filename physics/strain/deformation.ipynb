{
 "cells": [
  {
   "cell_type": "code",
   "execution_count": 1,
   "metadata": {},
   "outputs": [],
   "source": [
    "import numpy as np"
   ]
  },
  {
   "cell_type": "markdown",
   "metadata": {},
   "source": [
    "Notation see [here](https://www.overleaf.com/project/5eb163d1d04a61000199ae5f).\n",
    "\n",
    "\n",
    "A _deformation_ transformes lattice vectors ${\\bf a}_i$ into new lattice vectors ${\\bf a}_i'$:\n",
    "\n",
    "$$\n",
    "\\begin{align}\n",
    "    A' =     \n",
    "    \\begin{pmatrix}\n",
    "        -~ {\\bf a'}^1 ~- \\\\\n",
    "        -~ {\\bf a'}^2 ~- \\\\\n",
    "        \\vdots \\\\\n",
    "    \\end{pmatrix}\n",
    "    =     \n",
    "    D\n",
    "    \\begin{pmatrix}\n",
    "        -~ {\\bf a}^1 ~- \\\\\n",
    "        -~ {\\bf a}^2 ~- \\\\\n",
    "        \\vdots \\\\\n",
    "    \\end{pmatrix}\n",
    "    = D A~.\n",
    "\\end{align}\n",
    "$$\n",
    "\n",
    "Write  in shape $Ax = B$ by transposing:\n",
    "$$\n",
    "\\begin{align}\n",
    "    (A')^{\\rm t} = A^{\\rm t} D^{\\rm t}\n",
    "\\end{align}\n",
    "$$\n",
    "\n",
    "so that $D$ can be obtained by `D = np.linalg.solve(A1.T, A2.T).T`."
   ]
  },
  {
   "cell_type": "code",
   "execution_count": 2,
   "metadata": {},
   "outputs": [],
   "source": [
    "def get_deformation(cell1, cell2):\n",
    "    \"\"\"Compute the matrix that deforms cell1 into cell2\"\"\"\n",
    "    return np.linalg.solve(cell1.T, cell2.T).T"
   ]
  },
  {
   "cell_type": "code",
   "execution_count": 3,
   "metadata": {},
   "outputs": [],
   "source": [
    "# Example\n",
    "\n",
    "A1 = np.array([[0, 1, 1], [1, 0, 1], [1, 1, 0]])\n",
    "A2 = np.array([[0, 1, 2], [1, 0, 1], [1, 1, 0]])"
   ]
  },
  {
   "cell_type": "code",
   "execution_count": 4,
   "metadata": {},
   "outputs": [
    {
     "data": {
      "text/plain": [
       "array([[ 1.5,  0.5, -0.5],\n",
       "       [ 0. ,  1. , -0. ],\n",
       "       [ 0. ,  0. ,  1. ]])"
      ]
     },
     "execution_count": 4,
     "metadata": {},
     "output_type": "execute_result"
    }
   ],
   "source": [
    "# verify\n",
    "D = get_deformation(A1, A2)\n",
    "D"
   ]
  },
  {
   "cell_type": "code",
   "execution_count": 5,
   "metadata": {},
   "outputs": [
    {
     "data": {
      "text/plain": [
       "0.0"
      ]
     },
     "execution_count": 5,
     "metadata": {},
     "output_type": "execute_result"
    }
   ],
   "source": [
    "np.linalg.norm(D @ A1 - A2)"
   ]
  },
  {
   "cell_type": "code",
   "execution_count": null,
   "metadata": {},
   "outputs": [],
   "source": []
  }
 ],
 "metadata": {
  "kernelspec": {
   "display_name": "Python 3",
   "language": "python",
   "name": "python3"
  },
  "language_info": {
   "codemirror_mode": {
    "name": "ipython",
    "version": 3
   },
   "file_extension": ".py",
   "mimetype": "text/x-python",
   "name": "python",
   "nbconvert_exporter": "python",
   "pygments_lexer": "ipython3",
   "version": "3.8.1"
  }
 },
 "nbformat": 4,
 "nbformat_minor": 4
}
