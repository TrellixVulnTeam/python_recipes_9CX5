{
 "cells": [
  {
   "cell_type": "code",
   "execution_count": 17,
   "metadata": {},
   "outputs": [],
   "source": [
    "import numpy as np\n",
    "from ase.build import bulk\n",
    "from ase.io.aims import read_aims as read"
   ]
  },
  {
   "cell_type": "code",
   "execution_count": 44,
   "metadata": {},
   "outputs": [
    {
     "data": {
      "text/plain": [
       "Atoms(symbols='Al', pbc=True, cell=[[0.5, 2.525, 2.025], [2.025, 0.0, 2.025], [2.025, 2.025, 0.0]])"
      ]
     },
     "execution_count": 44,
     "metadata": {},
     "output_type": "execute_result"
    }
   ],
   "source": [
    "a1 = bulk('Al')\n",
    "a2 = bulk('Al')\n",
    "\n",
    "a2.cell[0, 0] += .5\n",
    "a2.cell[0, 1] += .5\n",
    "a2"
   ]
  },
  {
   "cell_type": "code",
   "execution_count": 55,
   "metadata": {},
   "outputs": [],
   "source": [
    "def deform_grad(cell1, cell2):\n",
    "    return np.linalg.solve(cell1, cell2).T"
   ]
  },
  {
   "cell_type": "code",
   "execution_count": 56,
   "metadata": {},
   "outputs": [
    {
     "data": {
      "text/plain": [
       "(array([[5.00000000e-01, 2.52500000e+00, 2.02500000e+00],\n",
       "        [2.02500000e+00, 3.25956683e-18, 2.02500000e+00],\n",
       "        [2.02500000e+00, 2.02500000e+00, 0.00000000e+00]]),\n",
       " array([[0.5  , 2.525, 2.025],\n",
       "        [2.025, 0.   , 2.025],\n",
       "        [2.025, 2.025, 0.   ]]))"
      ]
     },
     "execution_count": 56,
     "metadata": {},
     "output_type": "execute_result"
    }
   ],
   "source": [
    "(deform_grad(a1.cell, a2.cell) @ a1.cell).T, a2.cell[:]"
   ]
  },
  {
   "cell_type": "code",
   "execution_count": 39,
   "metadata": {},
   "outputs": [
    {
     "data": {
      "text/plain": [
       "array([[-0., -0., -0.],\n",
       "       [-0.,  0.,  0.],\n",
       "       [-0.,  0.,  0.]])"
      ]
     },
     "execution_count": 39,
     "metadata": {},
     "output_type": "execute_result"
    }
   ],
   "source": [
    "(a1.get_reciprocal_cell()[:] - np.linalg.inv(a1.cell).T).round(3)"
   ]
  },
  {
   "cell_type": "code",
   "execution_count": 40,
   "metadata": {},
   "outputs": [
    {
     "data": {
      "text/plain": [
       "(array([[ 1.12, -0.12,  0.12],\n",
       "        [ 0.12,  0.88, -0.12],\n",
       "        [ 0.  ,  0.  ,  1.  ]]),\n",
       " array([[ 1.,  0.,  0.],\n",
       "        [-0.,  1.,  0.],\n",
       "        [-0.,  0.,  1.]]))"
      ]
     },
     "execution_count": 40,
     "metadata": {},
     "output_type": "execute_result"
    }
   ],
   "source": [
    "(a1.cell @ a1.get_reciprocal_cell()).round(2), (a1.cell @ a1.get_reciprocal_cell().T).round(2)"
   ]
  },
  {
   "cell_type": "code",
   "execution_count": 24,
   "metadata": {},
   "outputs": [
    {
     "data": {
      "text/plain": [
       "array([[ 1.00000000e+00,  6.51913366e-18,  4.93827160e-02],\n",
       "       [ 6.51913366e-18,  1.00000000e+00, -6.51913366e-18],\n",
       "       [ 6.51913366e-18, -6.51913366e-18,  1.00000000e+00]])"
      ]
     },
     "execution_count": 24,
     "metadata": {},
     "output_type": "execute_result"
    }
   ],
   "source": [
    "# cell = (rot + strain) @ fcc_cell\n",
    "deform = a1.cell @ np.linalg.inv(fcc_cell)\n",
    "deform"
   ]
  },
  {
   "cell_type": "code",
   "execution_count": 25,
   "metadata": {},
   "outputs": [
    {
     "data": {
      "text/plain": [
       "array([[0.   , 2.025, 2.025],\n",
       "       [2.025, 0.   , 2.025],\n",
       "       [2.025, 2.025, 0.   ]])"
      ]
     },
     "execution_count": 25,
     "metadata": {},
     "output_type": "execute_result"
    }
   ],
   "source": [
    "fcc_cell"
   ]
  },
  {
   "cell_type": "code",
   "execution_count": 9,
   "metadata": {},
   "outputs": [
    {
     "data": {
      "text/plain": [
       "array([[ 1.00501733,  0.        ,  0.        ],\n",
       "       [ 0.        ,  1.00501733, -0.        ],\n",
       "       [ 0.        ,  0.        ,  1.00501733]])"
      ]
     },
     "execution_count": 9,
     "metadata": {},
     "output_type": "execute_result"
    }
   ],
   "source": [
    "strain = (a2.get_cell() @ a1.get_reciprocal_cell()).round(14)\n",
    "strain"
   ]
  },
  {
   "cell_type": "code",
   "execution_count": 24,
   "metadata": {},
   "outputs": [
    {
     "data": {
      "text/plain": [
       "(array([[ 0.        ,  3.09527735,  3.09527735],\n",
       "        [ 3.09527735, -0.        ,  3.09527735],\n",
       "        [ 3.09527735,  3.09527735,  0.        ]]),\n",
       " array([[0.        , 3.09527735, 3.09527735],\n",
       "        [3.09527735, 0.        , 3.09527735],\n",
       "        [3.09527735, 3.09527735, 0.        ]]))"
      ]
     },
     "execution_count": 24,
     "metadata": {},
     "output_type": "execute_result"
    }
   ],
   "source": [
    "a2.get_cell()[:], strain @ a1.get_cell()[:]"
   ]
  },
  {
   "cell_type": "code",
   "execution_count": 13,
   "metadata": {},
   "outputs": [],
   "source": [
    "s2 = s1.copy()\n",
    "s2.set_cell(strain @ s1.get_cell(), scale_atoms=True)"
   ]
  },
  {
   "cell_type": "code",
   "execution_count": 26,
   "metadata": {},
   "outputs": [
    {
     "data": {
      "text/plain": [
       "(array([[ -3.09527735,   9.28583204,  12.38110938],\n",
       "        [ -3.09527735,  12.38110938,  -9.28583204],\n",
       "        [-12.38110938,  -3.09527735,  -3.09527735]]),\n",
       " array([[ -3.09527735,   9.28583204,  12.38110938],\n",
       "        [ -3.09527735,  12.38110938,  -9.28583204],\n",
       "        [-12.38110938,  -3.09527735,  -3.09527735]]))"
      ]
     },
     "execution_count": 26,
     "metadata": {},
     "output_type": "execute_result"
    }
   ],
   "source": [
    "s2.cell[:], strain @ s1.cell[:]"
   ]
  },
  {
   "cell_type": "code",
   "execution_count": 17,
   "metadata": {},
   "outputs": [
    {
     "data": {
      "text/plain": [
       "array([[-0.67001155,  0.0558343 , -0.72584585],\n",
       "       [ 0.33500578,  0.72584585, -0.39084007],\n",
       "       [ 0.33500578, -0.94918303, -0.72584585]])"
      ]
     },
     "execution_count": 17,
     "metadata": {},
     "output_type": "execute_result"
    }
   ],
   "source": [
    "s1.get_reciprocal_cell() @ s2.get_cell()"
   ]
  },
  {
   "cell_type": "code",
   "execution_count": 21,
   "metadata": {},
   "outputs": [
    {
     "data": {
      "text/plain": [
       "array([[ 4.,  0., -1.],\n",
       "       [ 1., -4.,  3.],\n",
       "       [ 1., -2., -2.]])"
      ]
     },
     "execution_count": 21,
     "metadata": {},
     "output_type": "execute_result"
    }
   ],
   "source": [
    "(s1.get_cell() @ a1.get_reciprocal_cell()).round(1)"
   ]
  },
  {
   "cell_type": "code",
   "execution_count": null,
   "metadata": {},
   "outputs": [],
   "source": []
  }
 ],
 "metadata": {
  "kernelspec": {
   "display_name": "Python 3",
   "language": "python",
   "name": "python3"
  },
  "language_info": {
   "codemirror_mode": {
    "name": "ipython",
    "version": 3
   },
   "file_extension": ".py",
   "mimetype": "text/x-python",
   "name": "python",
   "nbconvert_exporter": "python",
   "pygments_lexer": "ipython3",
   "version": "3.8.1"
  }
 },
 "nbformat": 4,
 "nbformat_minor": 4
}
