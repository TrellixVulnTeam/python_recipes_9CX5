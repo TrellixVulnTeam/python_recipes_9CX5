{
 "cells": [
  {
   "cell_type": "code",
   "execution_count": null,
   "metadata": {
    "collapsed": true
   },
   "outputs": [],
   "source": [
    "import numpy as np\n",
    "import sympy as sp\n",
    "import scipy.linalg as la\n",
    "from time import time\n",
    "from numba import jit"
   ]
  },
  {
   "cell_type": "code",
   "execution_count": null,
   "metadata": {
    "collapsed": true
   },
   "outputs": [],
   "source": [
    "import matplotlib.pyplot as plt\n",
    "from mpl_toolkits.mplot3d import axes3d"
   ]
  },
  {
   "cell_type": "code",
   "execution_count": null,
   "metadata": {},
   "outputs": [],
   "source": [
    "a = sp.Symbol('a')\n",
    "lat = np.array([\n",
    "    [0, a, a],\n",
    "    [a, 0, a],\n",
    "    [a, a, 0]])\n",
    "nlat = (lat/a).astype(int)\n",
    "lat"
   ]
  },
  {
   "cell_type": "code",
   "execution_count": null,
   "metadata": {
    "collapsed": true
   },
   "outputs": [],
   "source": [
    "# inverse lattice\n",
    "nilat = la.inv(nlat)\n",
    "ilat = 1/a * nilat"
   ]
  },
  {
   "cell_type": "code",
   "execution_count": null,
   "metadata": {},
   "outputs": [],
   "source": [
    "sm = 2*np.array([\n",
    "    [-1, 2, 2],\n",
    "    [2, -1, 2],\n",
    "    [2, 2, -1]\n",
    "])\n",
    "print(sm)\n",
    "Ntarget = int(la.det(sm))\n",
    "print(Ntarget)"
   ]
  },
  {
   "cell_type": "code",
   "execution_count": null,
   "metadata": {},
   "outputs": [],
   "source": [
    "# superlattice\n",
    "slat = sm.dot(lat)\n",
    "nslat = (slat / a).astype(int)\n",
    "print(slat[:, :])"
   ]
  },
  {
   "cell_type": "code",
   "execution_count": null,
   "metadata": {},
   "outputs": [],
   "source": [
    "# inverse superlattice\n",
    "nislat = la.inv(nslat)\n",
    "islat = nislat / a\n",
    "islat, nislat"
   ]
  },
  {
   "cell_type": "markdown",
   "metadata": {},
   "source": [
    "#### Fractional coordinates"
   ]
  },
  {
   "cell_type": "code",
   "execution_count": null,
   "metadata": {
    "collapsed": true
   },
   "outputs": [],
   "source": [
    "rf1 = np.array([0, 0, 0])\n",
    "rf2 = np.array([1/4, 1/4, 1/4])"
   ]
  },
  {
   "cell_type": "markdown",
   "metadata": {},
   "source": [
    "#### Cartesian coordinates"
   ]
  },
  {
   "cell_type": "code",
   "execution_count": null,
   "metadata": {},
   "outputs": [],
   "source": [
    "rc1 = rf1.dot(lat)\n",
    "rc2 = rf2.dot(lat)\n",
    "rc2"
   ]
  },
  {
   "cell_type": "code",
   "execution_count": null,
   "metadata": {},
   "outputs": [],
   "source": [
    "sm.dot(lat[:, 0])"
   ]
  },
  {
   "cell_type": "code",
   "execution_count": null,
   "metadata": {},
   "outputs": [],
   "source": [
    "sm.dot(rc2)"
   ]
  },
  {
   "cell_type": "markdown",
   "metadata": {},
   "source": [
    "### Algorithm\n",
    "1. Construct lattice points\n",
    "2. Check if lattice point lies within supercell\n",
    "3. Check if lattice point was found. before, if yes, discard.\n",
    "\n",
    "#### Criterion for inside/outside the cell\n",
    "1. Find fractional coord.s of atoms in new basis vectors,\n",
    "2. discard atoms that have fractional components with\n",
    "$$ \\tilde r_i < 0 ,$$\n",
    "or\n",
    "$$ \\tilde r_i \\geq 1 $$"
   ]
  },
  {
   "cell_type": "code",
   "execution_count": null,
   "metadata": {
    "collapsed": true
   },
   "outputs": [],
   "source": [
    "# collect atomic positions:\n",
    "R = [rc1, rc2]"
   ]
  },
  {
   "cell_type": "code",
   "execution_count": null,
   "metadata": {
    "collapsed": true
   },
   "outputs": [],
   "source": [
    "new_atoms = []\n",
    "new_atoms_frac = []"
   ]
  },
  {
   "cell_type": "code",
   "execution_count": null,
   "metadata": {},
   "outputs": [],
   "source": [
    "# generate new atoms and append if they lie in the supercell\n",
    "eps = 1e-5\n",
    "\n",
    "@jit(nopython=True)\n",
    "def inlist(elem, lis, tol=1e-5):\n",
    "    for ii in range(len(lis)):\n",
    "        ll = lis[ii]\n",
    "        # Check length\n",
    "        na = np.linalg.norm(elem)\n",
    "        nb = np.linalg.norm(ll)\n",
    "        if abs(na - nb)  > tol:\n",
    "            continue\n",
    "        # Check for zero vector\n",
    "        if abs(na) + abs(nb) < tol:\n",
    "            return True\n",
    "        # Check angle\n",
    "        if abs(np.dot(ll, elem) / na / nb - 1) < tol:\n",
    "            return True\n",
    "    #\n",
    "    # if nothing found:\n",
    "    return False\n",
    "\n",
    "def bruteforce(basis, lat, smatrix, checklist=False, verbose=False, tol=1e-5):\n",
    "    # first find lattice points\n",
    "    # List of lattice points:\n",
    "    \n",
    "    slat = np.dot(smatrix, lat)\n",
    "    islat = la.inv(slat).T\n",
    "    \n",
    "    max1 = abs(smatrix[0, :]).max()*2 + 1\n",
    "    max2 = abs(smatrix[1, :]).max()*2 + 1\n",
    "    max3 = abs(smatrix[2, :]).max()*2 + 1\n",
    "\n",
    "    # maximal distance = diagonal\n",
    "    dmax = np.linalg.norm(slat[:, 0] + slat[:, 1] + slat[:, 2]) + 2\n",
    "    print(dmax)\n",
    "    \n",
    "    lps = -np.ones((Ntarget, 3), dtype=float)\n",
    "    flps = -np.ones((Ntarget, 3), dtype=float)\n",
    "\n",
    "    counter = 0\n",
    "    for n1 in range(-max1, max1):\n",
    "        if verbose: print('Progress = {}'.format((n1 + max1) / (2*max1)))\n",
    "        for n2 in range(-max2, max2):\n",
    "            for n3 in range(-max3, max3):\n",
    "                # lattice point\n",
    "                # print(n1, n2, n3)\n",
    "                lp = (n1*lat[0] + n2*lat[1] + n3*lat[2]).astype(float)\n",
    "                \n",
    "                # Check if this one is relevant\n",
    "                if np.linalg.norm(lp) > dmax:\n",
    "                    continue\n",
    "                #\n",
    "                # Check if is in list\n",
    "                if checklist:\n",
    "                    if counter > 1:\n",
    "                        if inlist(lp, lps[:counter]):\n",
    "                            print('lp: {} already in list'.format(lp))\n",
    "                            continue\n",
    "                \n",
    "                # fractional lattice point\n",
    "                flp = (islat.dot(lp)).astype(float)\n",
    "                # Check if is inside supercell:\n",
    "                if any(np.array(flp) < -tol):\n",
    "                    # print(f'{flp} discarded < 0')\n",
    "                    continue\n",
    "                if any(np.array(flp) > 1 - tol):\n",
    "                    #print(f'{flp} discarded > 1')\n",
    "                    continue\n",
    "                #\n",
    "                # if passed:\n",
    "                # print('{} accepted'.format(flp))\n",
    "                lps[counter] = lp\n",
    "                flps[counter] = flp\n",
    "                counter += 1\n",
    "    #\n",
    "    print('{} lattice points found'.format(counter))\n",
    "    #print('{} of them within supercell'.format(len(flps)))\n",
    "    return lps, flps, counter"
   ]
  },
  {
   "cell_type": "code",
   "execution_count": null,
   "metadata": {},
   "outputs": [],
   "source": [
    "print(nlat, nslat)\n",
    "stime = time()\n",
    "lps, flps, counter = bruteforce(R, nlat, sm)\n",
    "print(f'Finished in {time()-stime:7.2f}s')"
   ]
  },
  {
   "cell_type": "code",
   "execution_count": null,
   "metadata": {},
   "outputs": [],
   "source": [
    "lps"
   ]
  },
  {
   "cell_type": "code",
   "execution_count": null,
   "metadata": {
    "collapsed": true,
    "scrolled": true
   },
   "outputs": [],
   "source": [
    "#new_atoms_frac"
   ]
  },
  {
   "cell_type": "code",
   "execution_count": null,
   "metadata": {},
   "outputs": [],
   "source": [
    "# check if number of atom is correct\n",
    "print(f'Number of atoms in the supercell is')\n",
    "print(f'  {int(la.det(sm))} = {len(lps)}')\n",
    "if int(la.det(sm) == len(lps)):\n",
    "    print(f'..correct.')\n",
    "else:\n",
    "    print(f'..wrong!')"
   ]
  },
  {
   "cell_type": "markdown",
   "metadata": {},
   "source": [
    "## Plot\n",
    "Plot the old and new cells with positions"
   ]
  },
  {
   "cell_type": "code",
   "execution_count": null,
   "metadata": {
    "collapsed": true
   },
   "outputs": [],
   "source": [
    "# old positions as number\n",
    "nR = [(pos / a).astype(float) for pos in R]"
   ]
  },
  {
   "cell_type": "code",
   "execution_count": null,
   "metadata": {
    "collapsed": true
   },
   "outputs": [],
   "source": [
    "# new positions as numbers\n",
    "nsR = [(pos).astype(float) for pos in lps]"
   ]
  },
  {
   "cell_type": "code",
   "execution_count": null,
   "metadata": {},
   "outputs": [],
   "source": [
    "%matplotlib notebook\n",
    "fig = plt.figure()\n",
    "ax = fig.add_subplot(111, projection='3d')\n",
    "for ii in range(3):\n",
    "    X = np.zeros(3)\n",
    "    Y = np.zeros(3)\n",
    "    Z = np.zeros(3)\n",
    "    V1 = nlat[ii,0]\n",
    "    V2 = nlat[ii,1]\n",
    "    V3 = nlat[ii,2]\n",
    "    ax.quiver(X,Y,Z,V1,V2,V3)\n",
    "    \n",
    "# Plot old positions:\n",
    "#xcpos = [pos[0] for pos in nR]\n",
    "#ycpos = [pos[1] for pos in nR]\n",
    "#zcpos = [pos[2] for pos in nR]\n",
    "#ax.scatter(xcpos, ycpos, zcpos)\n",
    "\n",
    "# Draw supercell boundary\n",
    "for ii in range(3):\n",
    "    X = np.zeros(3)\n",
    "    Y = np.zeros(3)\n",
    "    Z = np.zeros(3)\n",
    "    V1 = nslat[ii,0]\n",
    "    V2 = nslat[ii,1]\n",
    "    V3 = nslat[ii,2]\n",
    "    ax.quiver(X,Y,Z,V1,V2,V3, color='k', arrow_length_ratio=0)\n",
    "    for jj in range(2):\n",
    "        X2 = nslat[ii,0]\n",
    "        Y2 = nslat[ii,1]\n",
    "        Z2 = nslat[ii,2]\n",
    "        V21 = nslat[(ii+1+jj) % 3,0]\n",
    "        V22 = nslat[(ii+1+jj) % 3,1]\n",
    "        V23 = nslat[(ii+1+jj) % 3,2]\n",
    "        ax.quiver(X2,Y2,Z2,V21,V22,V23, color='k', arrow_length_ratio=0)\n",
    "    for jj in range(1):\n",
    "        X3 = nslat[ii,0] + nslat[(ii+1+jj)%3,0]\n",
    "        Y3 = nslat[ii,1] + nslat[(ii+1+jj)%3,1]\n",
    "        Z3 = nslat[ii,2] + nslat[(ii+1+jj)%3,2]\n",
    "        V31 = nslat[(ii+2+jj) % 3,0]\n",
    "        V32 = nslat[(ii+2+jj) % 3,1]\n",
    "        V33 = nslat[(ii+2+jj) % 3,2]\n",
    "        ax.quiver(X3,Y3,Z3,V31,V32,V33, color='k', arrow_length_ratio=0)\n",
    "\n",
    "# Plot new positions:\n",
    "xcspos = [pos[0] for pos in nsR]\n",
    "ycspos = [pos[1] for pos in nsR]\n",
    "zcspos = [pos[2] for pos in nsR]\n",
    "ax.scatter(xcspos, ycspos, zcspos)\n",
    "\n",
    "# Limits\n",
    "lims = nslat[0, :] + nslat[1, :] + nslat[2, :]\n",
    "ax.set_xlim([0, lims[0]])\n",
    "ax.set_ylim([0, lims[1]])\n",
    "ax.set_zlim([0, lims[2]])\n",
    "plt.show()\n",
    "#for angle in range(0, 360):\n",
    "#    ax.view_init(30, angle)\n",
    "#    plt.draw()\n",
    "#    plt.pause(.001)"
   ]
  },
  {
   "cell_type": "code",
   "execution_count": null,
   "metadata": {
    "collapsed": true
   },
   "outputs": [],
   "source": []
  },
  {
   "cell_type": "code",
   "execution_count": null,
   "metadata": {
    "collapsed": true
   },
   "outputs": [],
   "source": []
  },
  {
   "cell_type": "code",
   "execution_count": null,
   "metadata": {
    "collapsed": true
   },
   "outputs": [],
   "source": []
  }
 ],
 "metadata": {
  "kernelspec": {
   "display_name": "Python 3",
   "language": "python",
   "name": "python3"
  },
  "language_info": {
   "codemirror_mode": {
    "name": "ipython",
    "version": 3
   },
   "file_extension": ".py",
   "mimetype": "text/x-python",
   "name": "python",
   "nbconvert_exporter": "python",
   "pygments_lexer": "ipython3",
   "version": "3.6.3"
  }
 },
 "nbformat": 4,
 "nbformat_minor": 2
}
