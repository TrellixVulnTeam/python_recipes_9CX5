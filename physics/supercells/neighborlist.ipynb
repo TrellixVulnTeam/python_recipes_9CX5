{
 "cells": [
  {
   "cell_type": "code",
   "execution_count": 1,
   "metadata": {},
   "outputs": [],
   "source": [
    "import numpy as np\n",
    "from itertools import product\n",
    "\n",
    "from ase.io import read\n",
    "from ase.neighborlist import neighbor_list"
   ]
  },
  {
   "cell_type": "code",
   "execution_count": 2,
   "metadata": {},
   "outputs": [],
   "source": [
    "supercell = read('geometry.in.supercell', format='aims')"
   ]
  },
  {
   "cell_type": "code",
   "execution_count": 3,
   "metadata": {},
   "outputs": [],
   "source": [
    "def bounding_sphere_radius(cell, eps=1e-9):\n",
    "    vertices = []\n",
    "    for (i, j, k) in product(range(2), repeat=3):\n",
    "        vec = np.array([i, j, k]) @ cell\n",
    "        vertices.append(vec)\n",
    "        \n",
    "    # check for mutual distances\n",
    "    d_max = -1\n",
    "    for v1 in vertices:\n",
    "        for v2 in vertices:\n",
    "            d = np.linalg.norm(v1 - v2)\n",
    "            if d > d_max:\n",
    "                d_max = d\n",
    "                \n",
    "    return d_max + eps"
   ]
  },
  {
   "cell_type": "code",
   "execution_count": 4,
   "metadata": {},
   "outputs": [],
   "source": [
    "cutoff = bounding_sphere_radius(supercell.cell) / 2"
   ]
  },
  {
   "cell_type": "code",
   "execution_count": 5,
   "metadata": {},
   "outputs": [
    {
     "data": {
      "text/plain": [
       "224"
      ]
     },
     "execution_count": 5,
     "metadata": {},
     "output_type": "execute_result"
    }
   ],
   "source": [
    "# find list of neighbors\n",
    "index_i, index_j, distance_abs, distance_vec, shift_vec = neighbor_list('ijdDS', supercell, cutoff=cutoff)\n",
    "len(index_i)"
   ]
  },
  {
   "cell_type": "code",
   "execution_count": 6,
   "metadata": {},
   "outputs": [],
   "source": [
    "# sort by distance of i and distance of j\n",
    "metric = np.linalg.norm(supercell.positions[index_i], axis=1) \n",
    "metric += np.linalg.norm(supercell.positions[index_j], axis=1) * .99"
   ]
  },
  {
   "cell_type": "code",
   "execution_count": 7,
   "metadata": {},
   "outputs": [],
   "source": [
    "sortargs = np.argsort(metric)"
   ]
  },
  {
   "cell_type": "code",
   "execution_count": 8,
   "metadata": {
    "scrolled": false
   },
   "outputs": [
    {
     "name": "stdout",
     "output_type": "stream",
     "text": [
      "[0. 0. 0.] [1.35651688 1.35651688 1.35651688] [0 0 0]\n",
      "[0. 0. 0.] [1.35651688 1.35651688 1.35651688] [-1  0  0]\n",
      "[0. 0. 0.] [1.35651688 1.35651688 1.35651688] [ 0 -1  0]\n",
      "[0. 0. 0.] [1.35651688 1.35651688 1.35651688] [ 0  0 -1]\n",
      "[1.35651688 1.35651688 1.35651688] [0. 0. 0.] [1 0 0]\n",
      "[1.35651688 1.35651688 1.35651688] [0. 0. 0.] [0 0 0]\n",
      "[1.35651688 1.35651688 1.35651688] [0. 0. 0.] [0 1 0]\n",
      "[1.35651688 1.35651688 1.35651688] [0. 0. 0.] [0 0 1]\n",
      "[0. 0. 0.] [2.71303376 2.71303376 0.        ] [-1 -1  0]\n",
      "[0. 0. 0.] [2.71303376 2.71303376 0.        ] [ 0 -1  0]\n"
     ]
    }
   ],
   "source": [
    "for ii in sortargs[:10]:\n",
    "    print(supercell[index_i[ii]].position, supercell[index_j[ii]].position, shift_vec[ii])"
   ]
  },
  {
   "cell_type": "code",
   "execution_count": null,
   "metadata": {},
   "outputs": [],
   "source": []
  }
 ],
 "metadata": {
  "kernelspec": {
   "display_name": "Python 3",
   "language": "python",
   "name": "python3"
  },
  "language_info": {
   "codemirror_mode": {
    "name": "ipython",
    "version": 3
   },
   "file_extension": ".py",
   "mimetype": "text/x-python",
   "name": "python",
   "nbconvert_exporter": "python",
   "pygments_lexer": "ipython3",
   "version": "3.7.2"
  }
 },
 "nbformat": 4,
 "nbformat_minor": 2
}
